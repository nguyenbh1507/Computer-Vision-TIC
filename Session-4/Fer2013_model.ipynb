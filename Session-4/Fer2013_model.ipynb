{
 "cells": [
  {
   "cell_type": "markdown",
   "metadata": {
    "colab_type": "text",
    "id": "UsZPCLvU8aII"
   },
   "source": [
    "# Computer Vision Course #04\n",
    "## Train Deep Learning Model Practice\n",
    "by Can Nguyen - TIC Computer Vision Team\n"
   ]
  },
  {
   "cell_type": "markdown",
   "metadata": {},
   "source": [
    "## Introduction\n",
    "In this practice, you will train your deep learning model for your PoC Practice, in Python using the Keras deep learning library.\n",
    "\n",
    "After completing this tutorial, you will know:\n",
    "\n",
    "+ How to load your dataset in Keras.\n",
    "\n",
    "+ How to add data augmentation method for your dataset in Keras.\n",
    "\n",
    "+ How to implement and evaluate Convolutional Neural Network with Regularization techniques for your dataset.\n",
    "\n",
    "Let’s get started."
   ]
  },
  {
   "cell_type": "markdown",
   "metadata": {},
   "source": [
    "## Imports"
   ]
  },
  {
   "cell_type": "code",
   "execution_count": 1,
   "metadata": {
    "colab": {},
    "colab_type": "code",
    "id": "ELNGB9dw-u-J"
   },
   "outputs": [
    {
     "name": "stderr",
     "output_type": "stream",
     "text": [
      "/home/hung/anaconda3/lib/python3.6/site-packages/h5py/__init__.py:36: FutureWarning: Conversion of the second argument of issubdtype from `float` to `np.floating` is deprecated. In future, it will be treated as `np.float64 == np.dtype(float).type`.\n",
      "  from ._conv import register_converters as _register_converters\n",
      "Using TensorFlow backend.\n"
     ]
    }
   ],
   "source": [
    "#Import library\n",
    "import os\n",
    "os.environ['KERAS_BACKEND'] = 'tensorflow'\n",
    "from keras.datasets import mnist\n",
    "from keras.preprocessing.image import ImageDataGenerator\n",
    "from matplotlib import pyplot\n",
    "from keras import backend as K\n",
    "from keras.preprocessing.image import load_img, img_to_array\n",
    "import matplotlib.pyplot as plt\n",
    "%matplotlib inline\n",
    "import numpy as np"
   ]
  },
  {
   "cell_type": "markdown",
   "metadata": {},
   "source": [
    "## Input Pipeline"
   ]
  },
  {
   "cell_type": "markdown",
   "metadata": {},
   "source": [
    "Keras uses a so-called data-generator for inputting data into the neural network, which will loop over the data for eternity.\n",
    "\n",
    "We have a small training-set so it helps to artificially inflate its size by making various transformations to the images. We use a built-in data-generator that can make these random transformations. This is also called an augmented dataset."
   ]
  },
  {
   "cell_type": "code",
   "execution_count": 2,
   "metadata": {},
   "outputs": [
    {
     "name": "stdout",
     "output_type": "stream",
     "text": [
      "example_submission.csv\tfer2013.bib  fer2013.csv  README  test\ttrain\r\n"
     ]
    }
   ],
   "source": [
    "!ls ./Fer2013_dataset"
   ]
  },
  {
   "cell_type": "code",
   "execution_count": 3,
   "metadata": {},
   "outputs": [],
   "source": [
    "input_shape = (64,64)\n",
    "#Enter the path to your dataset\n",
    "train_dir= './Fer2013_dataset/train'\n",
    "#change \"valid\" to \"test\" if your dataset doesn't have \"valid\" folder\n",
    "test_dir = './Fer2013_dataset/test' \n",
    "\n",
    "#---------------------------\n",
    "\n",
    "\n",
    "\"\"\"Data generator for training dataset\"\"\"\n",
    "datagen_train = \\\n",
    "ImageDataGenerator(\n",
    "    rescale=1./255,\n",
    "    horizontal_flip=True,\n",
    "    data_format = 'channels_last'\n",
    ")"
   ]
  },
  {
   "cell_type": "markdown",
   "metadata": {},
   "source": [
    "We also need a data-generator for the test-set, but this should not do any transformations to the images because we want to know the exact classification accuracy on those specific images. So we just rescale the pixel-values so they are between 0.0 and 1.0"
   ]
  },
  {
   "cell_type": "code",
   "execution_count": 4,
   "metadata": {},
   "outputs": [],
   "source": [
    "\"\"\"Data generator for test dataset\"\"\"\n",
    "datagen_test = \\\n",
    "ImageDataGenerator(\n",
    "    rescale=1./255,\n",
    "    data_format= \"channels_last\"\n",
    ")"
   ]
  },
  {
   "cell_type": "markdown",
   "metadata": {},
   "source": [
    "The data-generators will return batches of images."
   ]
  },
  {
   "cell_type": "code",
   "execution_count": 5,
   "metadata": {},
   "outputs": [],
   "source": [
    "batch_size = 16"
   ]
  },
  {
   "cell_type": "markdown",
   "metadata": {},
   "source": [
    "We can save the randomly transformed images during training, so as to inspect whether they have been overly distorted, so we have to adjust the parameters for the data-generator above."
   ]
  },
  {
   "cell_type": "code",
   "execution_count": 6,
   "metadata": {},
   "outputs": [],
   "source": [
    "if True:\n",
    "    save_to_dir = None\n",
    "else:\n",
    "    save_to_dir='./Fer2013_dataset/augmented_images/'"
   ]
  },
  {
   "cell_type": "markdown",
   "metadata": {},
   "source": [
    "Now we create the actual data-generator that will read files from disk, resize the images and return a random batch.\n",
    "\n",
    "It is somewhat awkward that the construction of the data-generator is split into these two steps, but it is probably because there are different kinds of data-generators available for different data-types (images, text, etc.) and sources (memory or disk)."
   ]
  },
  {
   "cell_type": "code",
   "execution_count": 7,
   "metadata": {},
   "outputs": [
    {
     "name": "stdout",
     "output_type": "stream",
     "text": [
      "Found 27997 images belonging to 7 classes.\n",
      "Found 3582 images belonging to 7 classes.\n"
     ]
    }
   ],
   "source": [
    "generator_train = \\\n",
    "datagen_train.flow_from_directory(\n",
    "    directory=train_dir,\n",
    "    target_size=input_shape,\n",
    "    batch_size=batch_size,\n",
    "    shuffle=True,\n",
    "    save_to_dir=save_to_dir\n",
    ")\n",
    "\n",
    "generator_test = \\\n",
    "datagen_test.flow_from_directory(\n",
    "    directory=test_dir,\n",
    "    target_size=input_shape,\n",
    "    batch_size=batch_size,\n",
    "    shuffle=False\n",
    ")"
   ]
  },
  {
   "cell_type": "code",
   "execution_count": 8,
   "metadata": {},
   "outputs": [
    {
     "data": {
      "text/plain": [
       "(64, 64, 3)"
      ]
     },
     "execution_count": 8,
     "metadata": {},
     "output_type": "execute_result"
    }
   ],
   "source": [
    "generator_train.image_shape"
   ]
  },
  {
   "cell_type": "markdown",
   "metadata": {
    "colab_type": "text",
    "id": "wD572AQW8vFH"
   },
   "source": [
    "Define parameters for training"
   ]
  },
  {
   "cell_type": "code",
   "execution_count": 9,
   "metadata": {
    "colab": {},
    "colab_type": "code",
    "id": "2WRNhBDs-u-X"
   },
   "outputs": [],
   "source": [
    "### Some core parameters for training\n",
    "num_train = generator_train.n\n",
    "num_test = generator_test.n\n",
    "steps_test = num_test//batch_size\n",
    "steps_per_epoch = num_train // batch_size"
   ]
  },
  {
   "cell_type": "markdown",
   "metadata": {
    "colab_type": "text",
    "id": "NFUu9YNj5G-B"
   },
   "source": [
    "Get the class-names for the dataset."
   ]
  },
  {
   "cell_type": "code",
   "execution_count": 10,
   "metadata": {
    "colab": {},
    "colab_type": "code",
    "id": "rGDOBLIt-u-f"
   },
   "outputs": [
    {
     "name": "stdout",
     "output_type": "stream",
     "text": [
      "['Angry', 'Disgust', 'Fear', 'Happy', 'Neutral', 'Sad', 'Surprise']\n",
      "7\n"
     ]
    }
   ],
   "source": [
    "### Re-check our dataset\n",
    "cls_train = generator_train.classes\n",
    "cls_test = generator_test.classes\n",
    "class_names = list(generator_train.class_indices.keys())\n",
    "print(class_names)\n",
    "num_classes = generator_train.num_classes\n",
    "print(num_classes)"
   ]
  },
  {
   "cell_type": "markdown",
   "metadata": {
    "colab_type": "text",
    "id": "yjUWIcia8802"
   },
   "source": [
    "## Define your CNN model"
   ]
  },
  {
   "cell_type": "code",
   "execution_count": 11,
   "metadata": {},
   "outputs": [],
   "source": [
    "# import library\n",
    "from keras.models import Sequential,Model\n",
    "from keras.layers import Dense\n",
    "from keras.layers import Dropout\n",
    "from keras.layers import Flatten\n",
    "from keras.layers.convolutional import Conv2D\n",
    "from keras.layers.convolutional import MaxPooling2D\n",
    "from keras.utils import np_utils\n",
    "from IPython.display import Image\n",
    "from keras.optimizers import Adam"
   ]
  },
  {
   "cell_type": "code",
   "execution_count": 14,
   "metadata": {
    "colab": {},
    "colab_type": "code",
    "id": "vAsvFbAg4p2J"
   },
   "outputs": [],
   "source": [
    "# Create model \n",
    "model = Sequential()\n",
    "# Add convolution 2D shape (5x5x32),padding same, stride=1)\n",
    "\"\"\"Your code here:\"\"\"\n",
    "model.add(\n",
    "    Conv2D(\n",
    "        filters=32,\n",
    "        kernel_size=(7,7),\n",
    "        padding='same',\n",
    "        strides=(1, 1),\n",
    "        activation='relu',\n",
    "        input_shape=(64,64,3),\n",
    "        name='CONV_1'    \n",
    "    )\n",
    ")\n",
    "\n",
    "# Add Max_pooling 2D kernel size(2,2),no padding, stride=2\n",
    "\"\"\"Your code here:\"\"\"\n",
    "model.add(\n",
    "    MaxPooling2D(\n",
    "        pool_size=(2,2), \n",
    "        strides=(2,2), \n",
    "        padding='valid', \n",
    "        name=\"MAX_POOL_1\"\n",
    "    )\n",
    ")\n",
    "\n",
    "# Add convolution 2D shape (3x3x64),padding same, stride=1 \n",
    "\"\"\"Your code here:\"\"\"\n",
    "model.add(\n",
    "    Conv2D(\n",
    "        filters=64,\n",
    "        kernel_size=(5,5),\n",
    "        padding='same',\n",
    "        strides=(1, 1),\n",
    "        activation='relu',\n",
    "        name='CONV_2'    \n",
    "    )\n",
    ")\n",
    "\n",
    "# Add Max_pooling 2D kernel size(2,2)\n",
    "\"\"\"Your code here:\"\"\"\n",
    "model.add(\n",
    "    MaxPooling2D(\n",
    "        pool_size=(2,2), \n",
    "        strides=(2,2), \n",
    "        padding='valid', \n",
    "        name=\"MAX_POOL_2\"\n",
    "    )\n",
    ")\n",
    "\n",
    "# ADD flatten \n",
    "\"\"\"Your code here:\"\"\"\n",
    "model.add(\n",
    "    Flatten(name=\"FLATTEN\")\n",
    ")\n",
    "\n",
    "# ADD dense layer 512 hidden unit\n",
    "\"\"\"Your code here:\"\"\"\n",
    "model.add(\n",
    "    Dense(\n",
    "        units=512,\n",
    "        activation='relu',\n",
    "        name=\"Dense_1\"\n",
    "    )\n",
    ")\n",
    "# ADD dense layer\n",
    "model.add(\n",
    "    Dense(\n",
    "        units=num_classes,\n",
    "        activation='softmax',\n",
    "        name=\"Dense_2\"\n",
    "    )\n",
    ")\n"
   ]
  },
  {
   "cell_type": "code",
   "execution_count": 15,
   "metadata": {
    "colab": {},
    "colab_type": "code",
    "id": "4KrIKBhc6ruj"
   },
   "outputs": [
    {
     "name": "stdout",
     "output_type": "stream",
     "text": [
      "_________________________________________________________________\n",
      "Layer (type)                 Output Shape              Param #   \n",
      "=================================================================\n",
      "CONV_1 (Conv2D)              (None, 64, 64, 32)        4736      \n",
      "_________________________________________________________________\n",
      "MAX_POOL_1 (MaxPooling2D)    (None, 32, 32, 32)        0         \n",
      "_________________________________________________________________\n",
      "CONV_2 (Conv2D)              (None, 32, 32, 64)        51264     \n",
      "_________________________________________________________________\n",
      "MAX_POOL_2 (MaxPooling2D)    (None, 16, 16, 64)        0         \n",
      "_________________________________________________________________\n",
      "FLATTEN (Flatten)            (None, 16384)             0         \n",
      "_________________________________________________________________\n",
      "Dense_1 (Dense)              (None, 512)               8389120   \n",
      "_________________________________________________________________\n",
      "Dense_2 (Dense)              (None, 7)                 3591      \n",
      "=================================================================\n",
      "Total params: 8,448,711\n",
      "Trainable params: 8,448,711\n",
      "Non-trainable params: 0\n",
      "_________________________________________________________________\n"
     ]
    }
   ],
   "source": [
    "optimizer = Adam(lr=1e-4)\n",
    "\n",
    "# Compile model\n",
    "model.compile(\n",
    "    loss='categorical_crossentropy', \n",
    "    optimizer=optimizer, \n",
    "    metrics=['accuracy']\n",
    ")\n",
    "\n",
    "# Summary model\n",
    "model.summary()"
   ]
  },
  {
   "cell_type": "markdown",
   "metadata": {
    "colab_type": "text",
    "id": "-_0-eR7Z9GBv"
   },
   "source": [
    "## Training"
   ]
  },
  {
   "cell_type": "code",
   "execution_count": 17,
   "metadata": {
    "colab": {},
    "colab_type": "code",
    "id": "f7TkNLcO6tTq"
   },
   "outputs": [
    {
     "name": "stdout",
     "output_type": "stream",
     "text": [
      "Epoch 1/5\n",
      "1749/1749 [==============================] - 434s 248ms/step - loss: 1.5367 - acc: 0.4101 - val_loss: 1.4492 - val_acc: 0.4425\n",
      "Epoch 2/5\n",
      "1749/1749 [==============================] - 433s 248ms/step - loss: 1.3685 - acc: 0.4795 - val_loss: 1.3480 - val_acc: 0.4832\n",
      "Epoch 3/5\n",
      "1749/1749 [==============================] - 433s 248ms/step - loss: 1.2770 - acc: 0.5160 - val_loss: 1.3067 - val_acc: 0.5008\n",
      "Epoch 4/5\n",
      "1749/1749 [==============================] - 433s 248ms/step - loss: 1.1982 - acc: 0.5473 - val_loss: 1.2544 - val_acc: 0.5280\n",
      "Epoch 5/5\n",
      "1749/1749 [==============================] - 435s 248ms/step - loss: 1.1215 - acc: 0.5810 - val_loss: 1.2556 - val_acc: 0.5263\n"
     ]
    }
   ],
   "source": [
    "history = \\\n",
    "model.fit_generator(\n",
    "    generator=generator_train,\n",
    "    epochs=5,\n",
    "    steps_per_epoch=steps_per_epoch,\n",
    "    validation_data=generator_test,\n",
    "    validation_steps=steps_test\n",
    ")"
   ]
  },
  {
   "cell_type": "code",
   "execution_count": 18,
   "metadata": {},
   "outputs": [
    {
     "name": "stdout",
     "output_type": "stream",
     "text": [
      "Accuary score : 0.5270798437293184\n"
     ]
    }
   ],
   "source": [
    "# Final evaluation of the model\n",
    "scores = model.evaluate_generator(\n",
    "                  generator_test,\n",
    "                  verbose=0\n",
    "               )\n",
    "\n",
    "print(\"Accuary score :\", scores[1])"
   ]
  },
  {
   "cell_type": "markdown",
   "metadata": {
    "colab_type": "text",
    "id": "GcHN9srx9IPu"
   },
   "source": [
    "## Show training history as a graph\n",
    "Keras records the performance metrics at the end of each \"epoch\" so they can be plotted later. This shows that the loss-value for the training-set generally decreased during training, but the loss-values for the test-set were a bit more erratic. Similarly, the classification accuracy generally improved on the training-set while it was a bit more erratic on the test-set."
   ]
  },
  {
   "cell_type": "code",
   "execution_count": 19,
   "metadata": {
    "colab": {},
    "colab_type": "code",
    "id": "trYBlACK7pps"
   },
   "outputs": [],
   "source": [
    "def plot_training_history(history):\n",
    "    # Get the classification accuracy and loss-value\n",
    "    # for the training-set.\n",
    "    acc = history.history['acc']\n",
    "    loss = history.history['loss']\n",
    "\n",
    "    # Get it for the validation-set (we only use the test-set).\n",
    "    val_acc = history.history['val_acc']\n",
    "    val_loss = history.history['val_loss']\n",
    "\n",
    "    # Plot the accuracy and loss-values for the training-set.\n",
    "    plt.plot(acc, linestyle='-', color='b', label='Training Acc.')\n",
    "    plt.plot(loss, 'o', color='b', label='Training Loss')\n",
    "    \n",
    "    # Plot it for the test-set.\n",
    "    plt.plot(val_acc, linestyle='--', color='r', label='Test Acc.')\n",
    "    plt.plot(val_loss, 'o', color='r', label='Test Loss')\n",
    "\n",
    "    # Plot title and legend.\n",
    "    plt.title('Training and Test Accuracy')\n",
    "    plt.legend()\n",
    "\n",
    "    # Ensure the plot shows correctly.\n",
    "    plt.show()"
   ]
  },
  {
   "cell_type": "code",
   "execution_count": 20,
   "metadata": {
    "colab": {},
    "colab_type": "code",
    "id": "lFRnb4KZ7wAy"
   },
   "outputs": [
    {
     "data": {
      "image/png": "[encoded data removed]",
      "text/plain": [
       "<matplotlib.figure.Figure at 0x7f88e41f01d0>"
      ]
     },
     "metadata": {},
     "output_type": "display_data"
    }
   ],
   "source": [
    "plot_training_history(history)"
   ]
  },
  {
   "cell_type": "markdown",
   "metadata": {},
   "source": [
    "## Predict image"
   ]
  },
  {
   "cell_type": "markdown",
   "metadata": {},
   "source": [
    "Create ground-truth for your PoC, that contain the index and class name\n",
    "\n",
    "Ex:\n",
    "{0:\"Ford\", 1:'Lambor', 2: \"Range\"}"
   ]
  },
  {
   "cell_type": "code",
   "execution_count": 21,
   "metadata": {},
   "outputs": [
    {
     "data": {
      "text/plain": [
       "{'Angry': 0,\n",
       " 'Disgust': 1,\n",
       " 'Fear': 2,\n",
       " 'Happy': 3,\n",
       " 'Neutral': 4,\n",
       " 'Sad': 5,\n",
       " 'Surprise': 6}"
      ]
     },
     "execution_count": 21,
     "metadata": {},
     "output_type": "execute_result"
    }
   ],
   "source": [
    "generator_train.class_indices"
   ]
  },
  {
   "cell_type": "code",
   "execution_count": 22,
   "metadata": {},
   "outputs": [],
   "source": [
    "ground_truth = {0: 'Angry', 1: 'Disgust', 2: 'Fear', 3: 'Happy', 4: 'Neutral', 5: 'Sad', 6: 'Surprise'}"
   ]
  },
  {
   "cell_type": "code",
   "execution_count": 23,
   "metadata": {},
   "outputs": [],
   "source": [
    "import PIL"
   ]
  },
  {
   "cell_type": "code",
   "execution_count": 24,
   "metadata": {},
   "outputs": [],
   "source": [
    "def predict(image_path, model):\n",
    "    # Load and resize the image using PIL.\n",
    "    # Use tensorflow to load image (Work with transparent image like png)\n",
    "    img = load_img(image_path, target_size=input_shape)\n",
    "    # print(img)\n",
    "    # Plot the image.\n",
    "    plt.imshow(img)\n",
    "    plt.show()\n",
    "\n",
    "    img_arr = img_to_array(img)/255.\n",
    "    img_arr = np.expand_dims(img_arr, axis=0)\n",
    "    print(\"Input shape:\", img_arr.shape)\n",
    "    \n",
    "    pred1 = model.predict(img_arr)\n",
    "    \n",
    "    #pred = model.predict_classes(img_array)\n",
    "    label = np.argmax(pred1,axis=1)\n",
    "    print(\"Label:\", label)\n",
    "    print(\"Prediction - list of [P(0) ... P(5)]:\", pred1)\n",
    "    return ground_truth[label[0]]"
   ]
  },
  {
   "cell_type": "code",
   "execution_count": 26,
   "metadata": {},
   "outputs": [],
   "source": [
    "pred = model.predict_generator(generator_test)"
   ]
  },
  {
   "cell_type": "code",
   "execution_count": 27,
   "metadata": {},
   "outputs": [
    {
     "data": {
      "text/plain": [
       "array([0, 0, 0, ..., 6, 6, 6], dtype=int32)"
      ]
     },
     "execution_count": 27,
     "metadata": {},
     "output_type": "execute_result"
    }
   ],
   "source": [
    "generator_test.classes"
   ]
  },
  {
   "cell_type": "code",
   "execution_count": 28,
   "metadata": {},
   "outputs": [
    {
     "data": {
      "text/plain": [
       "array([4, 0, 0, ..., 0, 6, 6])"
      ]
     },
     "execution_count": 28,
     "metadata": {},
     "output_type": "execute_result"
    }
   ],
   "source": [
    "pred.argmax(axis=-1)"
   ]
  },
  {
   "cell_type": "code",
   "execution_count": 29,
   "metadata": {},
   "outputs": [],
   "source": [
    "compare = generator_test.classes == pred.argmax(axis=-1)"
   ]
  },
  {
   "cell_type": "code",
   "execution_count": 30,
   "metadata": {
    "scrolled": true
   },
   "outputs": [
    {
     "name": "stdout",
     "output_type": "stream",
     "text": [
      "[0, 3, 5, 6, 7, 9, 10, 11, 12, 15, 16, 19, 21, 22, 23, 24, 26, 27, 28, 29, 30, 31, 33, 35, 36, 37, 39, 40, 41, 42, 43, 44, 45, 46, 48, 49, 51, 55, 57, 58, 60, 61, 62, 63, 64, 65, 67, 68, 71, 72, 73, 74, 76, 77, 78, 79, 81, 82, 83, 88, 89, 90, 91, 93, 97, 98, 100, 102, 103, 104, 106, 108, 109, 115, 117, 118, 125, 126, 128, 130, 131, 132, 133, 135, 136, 137, 138, 139, 140, 141, 142, 143, 144, 145, 146, 147, 148, 150, 151, 152, 153, 158, 162, 163, 165, 166, 167, 169, 171, 172, 174, 175, 177, 178, 179, 180, 181, 182, 184, 185, 186, 187, 188, 189, 191, 192, 194, 195, 196, 197, 198, 199, 201, 204, 207, 208, 209, 212, 213, 214, 215, 217, 218, 219, 220, 221, 222, 223, 224, 225, 226, 228, 229, 230, 231, 232, 233, 235, 237, 240, 241, 244, 245, 247, 249, 251, 252, 253, 254, 255, 257, 259, 262, 263, 264, 265, 266, 267, 268, 269, 271, 272, 273, 274, 276, 281, 282, 283, 284, 285, 287, 288, 291, 292, 293, 295, 296, 297, 298, 302, 303, 305, 306, 308, 309, 311, 312, 314, 315, 318, 322, 323, 325, 327, 328, 329, 330, 331, 334, 335, 337, 340, 342, 344, 345, 347, 348, 350, 351, 354, 355, 356, 358, 359, 361, 362, 363, 364, 366, 369, 371, 373, 374, 375, 376, 378, 379, 380, 382, 383, 384, 385, 388, 389, 390, 393, 395, 396, 397, 398, 399, 400, 403, 404, 406, 407, 408, 410, 412, 413, 414, 415, 416, 420, 421, 422, 423, 424, 425, 426, 427, 428, 431, 432, 434, 435, 436, 437, 438, 439, 441, 442, 444, 445, 447, 448, 450, 451, 452, 453, 455, 456, 457, 458, 460, 466, 467, 468, 469, 470, 474, 475, 476, 477, 478, 479, 482, 483, 484, 485, 486, 487, 488, 489, 490, 493, 494, 495, 496, 497, 498, 499, 500, 502, 503, 504, 505, 506, 507, 508, 509, 510, 512, 513, 514, 515, 517, 518, 519, 520, 521, 522, 523, 524, 529, 530, 531, 532, 533, 534, 536, 538, 540, 541, 543, 544, 545, 546, 547, 548, 550, 551, 553, 554, 556, 557, 559, 560, 561, 562, 563, 564, 565, 566, 567, 568, 569, 571, 572, 573, 575, 578, 579, 580, 581, 582, 584, 587, 590, 591, 592, 593, 594, 596, 597, 598, 599, 600, 601, 603, 604, 605, 606, 607, 610, 611, 613, 616, 617, 618, 619, 622, 623, 627, 628, 630, 632, 634, 636, 638, 639, 641, 642, 644, 645, 646, 647, 648, 650, 651, 652, 653, 655, 656, 657, 658, 662, 663, 664, 666, 667, 668, 669, 671, 673, 676, 677, 680, 682, 683, 684, 685, 687, 689, 690, 691, 692, 693, 695, 698, 699, 700, 702, 705, 706, 707, 708, 709, 710, 711, 712, 713, 715, 716, 717, 718, 719, 721, 723, 724, 726, 727, 728, 729, 730, 732, 733, 734, 735, 736, 737, 738, 739, 741, 742, 743, 744, 746, 748, 750, 751, 754, 755, 756, 758, 759, 760, 761, 762, 763, 764, 767, 768, 769, 770, 771, 772, 773, 774, 775, 777, 779, 780, 781, 782, 785, 786, 789, 790, 792, 793, 794, 795, 796, 797, 800, 801, 805, 806, 807, 808, 809, 810, 811, 812, 813, 815, 816, 817, 820, 822, 823, 826, 827, 828, 829, 831, 832, 833, 834, 835, 836, 838, 840, 841, 842, 843, 844, 845, 846, 847, 850, 851, 852, 853, 855, 856, 857, 858, 859, 860, 861, 862, 863, 864, 865, 866, 867, 868, 869, 870, 871, 872, 873, 875, 877, 878, 879, 880, 881, 882, 883, 885, 887, 888, 889, 890, 891, 892, 894, 898, 899, 900, 901, 902, 903, 904, 905, 906, 907, 908, 909, 910, 911, 912, 913, 915, 916, 917, 918, 920, 921, 922, 923, 924, 925, 928, 929, 930, 931, 934, 935, 936, 938, 939, 940, 941, 942, 943, 944, 946, 947, 948, 949, 950, 951, 952, 954, 955, 956, 957, 958, 959, 961, 962, 963, 964, 965, 967, 972, 975, 977, 978, 979, 980, 982, 983, 984, 986, 987, 988, 990, 992, 994, 995, 996, 997, 998, 999, 1000, 1001, 1002, 1004, 1005, 1006, 1007, 1010, 1011, 1012, 1013, 1014, 1015, 1016, 1017, 1034, 1040, 1041, 1045, 1046, 1047, 1048, 1057, 1074, 1075, 1078, 1079, 1080, 1081, 1088, 1096, 1103, 1106, 1107, 1108, 1114, 1123, 1125, 1136, 1137, 1141, 1144, 1145, 1146, 1158, 1167, 1174, 1175, 1180, 1193, 1197, 1198, 1201, 1202, 1205, 1213, 1217, 1218, 1219, 1224, 1229, 1232, 1235, 1238, 1239, 1249, 1259, 1260, 1262, 1263, 1267, 1270, 1272, 1275, 1291, 1307, 1309, 1311, 1321, 1326, 1332, 1336, 1338, 1339, 1340, 1344, 1345, 1349, 1351, 1354, 1359, 1361, 1363, 1365, 1367, 1373, 1375, 1380, 1393, 1395, 1396, 1397, 1402, 1404, 1405, 1407, 1410, 1422, 1428, 1429, 1437, 1438, 1442, 1445, 1452, 1456, 1457, 1472, 1485, 1488, 1495, 1497, 1500, 1502, 1507, 1508, 1519, 1521, 1522, 1527, 1535, 1537, 1538, 1540, 1542, 1544, 1551, 1552, 1555, 1556, 1560, 1564, 1567, 1569, 1574, 1575, 1576, 1581, 1584, 1588, 1596, 1600, 1609, 1611, 1615, 1618, 1624, 1630, 1633, 1638, 1640, 1644, 1647, 1652, 1659, 1660, 1661, 1667, 1681, 1685, 1688, 1689, 1690, 1692, 1695, 1703, 1706, 1727, 1730, 1732, 1735, 1737, 1745, 1746, 1748, 1749, 1759, 1760, 1762, 1763, 1767, 1768, 1772, 1773, 1779, 1791, 1808, 1821, 1825, 1826, 1832, 1842, 1848, 1852, 1855, 1860, 1863, 1867, 1868, 1871, 1877, 1878, 1880, 1883, 1889, 1899, 1901, 1905, 1912, 1914, 1915, 1923, 1926, 1928, 1930, 1937, 1938, 1939, 1940, 1942, 1943, 1944, 1945, 1950, 1953, 1960, 1961, 1964, 1965, 1966, 1968, 1971, 1979, 1982, 1984, 1988, 1992, 1993, 1994, 1996, 1997, 1999, 2001, 2006, 2013, 2015, 2016, 2021, 2026, 2030, 2031, 2036, 2037, 2039, 2040, 2044, 2047, 2053, 2055, 2059, 2061, 2064, 2065, 2066, 2073, 2080, 2081, 2082, 2083, 2091, 2093, 2095, 2100, 2101, 2102, 2109, 2111, 2114, 2115, 2116, 2118, 2124, 2125, 2127, 2130, 2132, 2140, 2142, 2143, 2144, 2145, 2147, 2150, 2151, 2154, 2155, 2156, 2164, 2173, 2174, 2179, 2181, 2185, 2188, 2200, 2208, 2209, 2212, 2214, 2215, 2216, 2217, 2220, 2221, 2222, 2228, 2233, 2236, 2244, 2246, 2247, 2250, 2253, 2259, 2261, 2263, 2264, 2265, 2266, 2267, 2270, 2274, 2276, 2286, 2288, 2290, 2291, 2293, 2294, 2296, 2298, 2299, 2300, 2303, 2305, 2308, 2309, 2311, 2315, 2317, 2320, 2324, 2328, 2334, 2336, 2338, 2344, 2345, 2347, 2356, 2357, 2361, 2362, 2363, 2364, 2365, 2366, 2367, 2368, 2369, 2370, 2371, 2374, 2379, 2380, 2381, 2383, 2385, 2386, 2388, 2391, 2395, 2396, 2397, 2409, 2416, 2418, 2426, 2427, 2429, 2430, 2435, 2436, 2437, 2445, 2450, 2452, 2454, 2456, 2458, 2459, 2466, 2468, 2471, 2472, 2476, 2478, 2483, 2486, 2487, 2488, 2492, 2495, 2497, 2501, 2502, 2503, 2506, 2509, 2517, 2519, 2520, 2521, 2523, 2524, 2527, 2528, 2530, 2531, 2532, 2534, 2535, 2537, 2539, 2540, 2541, 2542, 2544, 2545, 2547, 2549, 2551, 2555, 2556, 2558, 2560, 2562, 2564, 2568, 2569, 2570, 2571, 2572, 2575, 2576, 2577, 2578, 2580, 2582, 2586, 2587, 2588, 2589, 2590, 2591, 2592, 2593, 2594, 2596, 2599, 2600, 2601, 2602, 2603, 2604, 2607, 2609, 2610, 2613, 2614, 2615, 2616, 2621, 2622, 2624, 2625, 2626, 2627, 2628, 2629, 2630, 2631, 2632, 2633, 2634, 2635, 2636, 2637, 2638, 2639, 2642, 2644, 2645, 2651, 2652, 2653, 2654, 2655, 2656, 2658, 2661, 2662, 2663, 2664, 2665, 2666, 2667, 2668, 2669, 2671, 2673, 2675, 2677, 2678, 2679, 2680, 2681, 2682, 2684, 2686, 2687, 2688, 2689, 2690, 2691, 2692, 2693, 2694, 2695, 2696, 2697, 2698, 2699, 2701, 2702, 2704, 2705, 2706, 2707, 2708, 2709, 2710, 2711, 2712, 2713, 2715, 2717, 2718, 2719, 2720, 2721, 2722, 2724, 2725, 2726, 2727, 2728, 2730, 2731, 2732, 2733, 2734, 2735, 2736, 2737, 2738, 2741, 2742, 2743, 2744, 2746, 2747, 2748, 2749, 2751, 2752, 2753, 2755, 2756, 2758, 2762, 2763, 2764, 2765, 2766, 2767, 2769, 2771, 2773, 2775, 2776, 2777, 2778, 2779, 2780, 2781, 2782, 2783, 2785, 2787, 2788, 2789, 2791, 2792, 2793, 2794, 2795, 2796, 2797, 2798, 2799, 2801, 2802, 2804, 2805, 2806, 2807, 2809, 2811, 2812, 2813, 2814, 2816, 2817, 2818, 2820, 2821, 2822, 2823, 2825, 2828, 2829, 2831, 2832, 2834, 2836, 2837, 2839, 2840, 2844, 2846, 2849, 2851, 2852, 2856, 2861, 2862, 2864, 2865, 2866, 2867, 2870, 2871, 2873, 2874, 2876, 2877, 2878, 2880, 2882, 2883, 2884, 2885, 2886, 2887, 2890, 2891, 2892, 2900, 2901, 2910, 2911, 2913, 2914, 2916, 2917, 2918, 2921, 2922, 2925, 2926, 2927, 2928, 2930, 2931, 2932, 2933, 2934, 2938, 2939, 2940, 2942, 2946, 2948, 2951, 2952, 2955, 2956, 2957, 2958, 2959, 2960, 2962, 2967, 2969, 2970, 2971, 2972, 2973, 2974, 2975, 2977, 2979, 2980, 2982, 2983, 2984, 2987, 2988, 2989, 2990, 2991, 2992, 2993, 2994, 2997, 2999, 3001, 3003, 3004, 3007, 3008, 3010, 3012, 3015, 3016, 3017, 3019, 3020, 3021, 3023, 3024, 3025, 3026, 3027, 3028, 3029, 3030, 3032, 3033, 3035, 3036, 3037, 3038, 3039, 3040, 3043, 3044, 3045, 3046, 3047, 3048, 3052, 3053, 3054, 3055, 3057, 3058, 3060, 3061, 3062, 3063, 3065, 3066, 3067, 3070, 3072, 3073, 3074, 3075, 3076, 3079, 3082, 3083, 3087, 3088, 3089, 3090, 3092, 3093, 3094, 3095, 3096, 3098, 3100, 3102, 3104, 3105, 3107, 3108, 3110, 3111, 3112, 3113, 3114, 3115, 3117, 3118, 3119, 3120, 3121, 3122, 3124, 3125, 3127, 3128, 3129, 3130, 3131, 3132, 3135, 3137, 3139, 3140, 3141, 3143, 3144, 3145, 3147, 3148, 3150, 3151, 3152, 3153, 3154, 3155, 3156, 3157, 3158, 3162, 3164, 3166, 3172, 3173, 3180, 3181, 3183, 3186, 3194, 3195, 3199, 3203, 3205, 3209, 3212, 3213, 3216, 3217, 3218, 3228, 3242, 3243, 3249, 3252, 3256, 3257, 3262, 3266, 3271, 3275, 3276, 3278, 3279, 3282, 3285, 3288, 3289, 3290, 3292, 3293, 3296, 3307, 3310, 3321, 3324, 3328, 3341, 3342, 3353, 3355, 3360, 3362, 3365, 3366, 3371, 3372, 3373, 3379, 3382, 3383, 3385, 3386, 3389, 3391, 3395, 3396, 3399, 3402, 3403, 3404, 3408, 3411, 3412, 3418, 3419, 3423, 3424, 3429, 3433, 3434, 3435, 3436, 3438, 3440, 3445, 3447, 3448, 3450, 3451, 3458, 3467, 3468, 3470, 3471, 3473, 3474, 3476, 3477, 3480, 3483, 3484, 3485, 3487, 3490, 3492, 3495, 3496, 3497, 3498, 3499, 3500, 3501, 3504, 3505, 3506, 3508, 3509, 3510, 3512, 3514, 3523, 3527, 3533, 3537, 3543, 3545, 3548, 3555, 3558, 3560, 3564, 3572, 3573, 3577, 3579]\n"
     ]
    }
   ],
   "source": [
    "err_idd = []\n",
    "for i in range(len(compare)):\n",
    "    if not compare[i]:\n",
    "        err_idd.append(i)\n",
    "print(err_idd)"
   ]
  },
  {
   "cell_type": "code",
   "execution_count": 31,
   "metadata": {},
   "outputs": [
    {
     "data": {
      "image/png": "[encoded data removed]",
      "text/plain": [
       "<matplotlib.figure.Figure at 0x7f88f4f42588>"
      ]
     },
     "metadata": {},
     "output_type": "display_data"
    },
    {
     "name": "stdout",
     "output_type": "stream",
     "text": [
      "Input shape: (1, 64, 64, 3)\n",
      "Label: [4]\n",
      "Prediction - list of [P(0) ... P(5)]: [[0.10870146 0.00431545 0.0430577  0.2091778  0.34417027 0.27311763\n",
      "  0.01745963]]\n"
     ]
    },
    {
     "data": {
      "text/plain": [
       "'Neutral'"
      ]
     },
     "execution_count": 31,
     "metadata": {},
     "output_type": "execute_result"
    }
   ],
   "source": [
    "idd = 3096\n",
    "img_path = test_dir + '/' + generator_test.filenames[idd]\n",
    "predict(\n",
    "    image_path=img_path,\n",
    "    model=model\n",
    ")"
   ]
  },
  {
   "cell_type": "code",
   "execution_count": null,
   "metadata": {},
   "outputs": [],
   "source": []
  }
 ],
 "metadata": {
  "celltoolbar": "Raw Cell Format",
  "colab": {
   "collapsed_sections": [],
   "name": "PoC_Practice.ipynb",
   "provenance": [],
   "version": "0.3.2"
  },
  "kernelspec": {
   "display_name": "Python 3",
   "language": "python",
   "name": "python3"
  },
  "language_info": {
   "codemirror_mode": {
    "name": "ipython",
    "version": 3
   },
   "file_extension": ".py",
   "mimetype": "text/x-python",
   "name": "python",
   "nbconvert_exporter": "python",
   "pygments_lexer": "ipython3",
   "version": "3.6.6"
  }
 },
 "nbformat": 4,
 "nbformat_minor": 1
}
