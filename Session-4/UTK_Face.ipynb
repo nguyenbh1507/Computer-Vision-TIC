{
 "cells": [
  {
   "cell_type": "markdown",
   "metadata": {
    "colab_type": "text",
    "id": "UsZPCLvU8aII"
   },
   "source": [
    "# Computer Vision Course #04\n",
    "## Train Deep Learning Model Practice\n",
    "by Can Nguyen - TIC Computer Vision Team\n"
   ]
  },
  {
   "cell_type": "markdown",
   "metadata": {},
   "source": [
    "## Introduction\n",
    "In this practice, you will train your deep learning model for your PoC Practice, in Python using the Keras deep learning library.\n",
    "\n",
    "After completing this tutorial, you will know:\n",
    "\n",
    "+ How to load your dataset in Keras.\n",
    "\n",
    "+ How to add data augmentation method for your dataset in Keras.\n",
    "\n",
    "+ How to implement and evaluate Convolutional Neural Network with Regularization techniques for your dataset.\n",
    "\n",
    "Let’s get started."
   ]
  },
  {
   "cell_type": "markdown",
   "metadata": {},
   "source": [
    "## Imports"
   ]
  },
  {
   "cell_type": "code",
   "execution_count": 23,
   "metadata": {
    "colab": {},
    "colab_type": "code",
    "id": "ELNGB9dw-u-J"
   },
   "outputs": [],
   "source": [
    "#Import library\n",
    "import os\n",
    "os.environ['KERAS_BACKEND'] = 'tensorflow'\n",
    "from keras.datasets import mnist\n",
    "from keras.preprocessing.image import ImageDataGenerator\n",
    "from matplotlib import pyplot\n",
    "from keras import backend as K\n",
    "from keras.preprocessing.image import load_img, img_to_array\n",
    "import matplotlib.pyplot as plt\n",
    "%matplotlib inline\n",
    "import numpy as np"
   ]
  },
  {
   "cell_type": "markdown",
   "metadata": {},
   "source": [
    "## Input Pipeline"
   ]
  },
  {
   "cell_type": "markdown",
   "metadata": {},
   "source": [
    "Keras uses a so-called data-generator for inputting data into the neural network, which will loop over the data for eternity.\n",
    "\n",
    "We have a small training-set so it helps to artificially inflate its size by making various transformations to the images. We use a built-in data-generator that can make these random transformations. This is also called an augmented dataset."
   ]
  },
  {
   "cell_type": "code",
   "execution_count": 32,
   "metadata": {},
   "outputs": [
    {
     "name": "stdout",
     "output_type": "stream",
     "text": [
      "female\tmale\r\n"
     ]
    }
   ],
   "source": [
    "!ls ../UTKFace_dataset/test"
   ]
  },
  {
   "cell_type": "code",
   "execution_count": 6,
   "metadata": {},
   "outputs": [],
   "source": [
    "input_shape = (64,64)\n",
    "#Enter the path to your dataset\n",
    "train_dir= './UTKFace_dataset/train'\n",
    "#change \"valid\" to \"test\" if your dataset doesn't have \"valid\" folder\n",
    "test_dir = './UTKFace_dataset/test' \n",
    "\n",
    "#---------------------------\n",
    "\n",
    "\n",
    "\"\"\"Data generator for training dataset\"\"\"\n",
    "datagen_train = \\\n",
    "ImageDataGenerator(\n",
    "    rescale=1./255,\n",
    "    horizontal_flip=True,\n",
    "    data_format = 'channels_last'\n",
    ")"
   ]
  },
  {
   "cell_type": "markdown",
   "metadata": {},
   "source": [
    "We also need a data-generator for the test-set, but this should not do any transformations to the images because we want to know the exact classification accuracy on those specific images. So we just rescale the pixel-values so they are between 0.0 and 1.0"
   ]
  },
  {
   "cell_type": "code",
   "execution_count": 7,
   "metadata": {},
   "outputs": [],
   "source": [
    "\"\"\"Data generator for test dataset\"\"\"\n",
    "datagen_test = \\\n",
    "ImageDataGenerator(\n",
    "    rescale=1./255,\n",
    "    data_format= \"./UTKFace_dataset/channels_last\"\n",
    ")"
   ]
  },
  {
   "cell_type": "markdown",
   "metadata": {},
   "source": [
    "The data-generators will return batches of images."
   ]
  },
  {
   "cell_type": "code",
   "execution_count": 8,
   "metadata": {},
   "outputs": [],
   "source": [
    "batch_size = 16"
   ]
  },
  {
   "cell_type": "markdown",
   "metadata": {},
   "source": [
    "We can save the randomly transformed images during training, so as to inspect whether they have been overly distorted, so we have to adjust the parameters for the data-generator above."
   ]
  },
  {
   "cell_type": "code",
   "execution_count": 9,
   "metadata": {},
   "outputs": [],
   "source": [
    "if True:\n",
    "    save_to_dir = None\n",
    "else:\n",
    "    save_to_dir='augmented_images/'"
   ]
  },
  {
   "cell_type": "markdown",
   "metadata": {},
   "source": [
    "Now we create the actual data-generator that will read files from disk, resize the images and return a random batch.\n",
    "\n",
    "It is somewhat awkward that the construction of the data-generator is split into these two steps, but it is probably because there are different kinds of data-generators available for different data-types (images, text, etc.) and sources (memory or disk)."
   ]
  },
  {
   "cell_type": "code",
   "execution_count": 10,
   "metadata": {},
   "outputs": [
    {
     "name": "stdout",
     "output_type": "stream",
     "text": [
      "Found 18967 images belonging to 2 classes.\n",
      "Found 4741 images belonging to 2 classes.\n"
     ]
    }
   ],
   "source": [
    "generator_train = \\\n",
    "datagen_train.flow_from_directory(\n",
    "    directory=train_dir,\n",
    "    target_size=input_shape,\n",
    "    batch_size=batch_size,\n",
    "    shuffle=True,\n",
    "    save_to_dir=save_to_dir\n",
    ")\n",
    "\n",
    "generator_test = \\\n",
    "datagen_test.flow_from_directory(\n",
    "    directory=test_dir,\n",
    "    target_size=input_shape,\n",
    "    batch_size=batch_size,\n",
    "    shuffle=False\n",
    ")"
   ]
  },
  {
   "cell_type": "markdown",
   "metadata": {
    "colab_type": "text",
    "id": "wD572AQW8vFH"
   },
   "source": [
    "Define parameters for training"
   ]
  },
  {
   "cell_type": "code",
   "execution_count": 17,
   "metadata": {
    "colab": {},
    "colab_type": "code",
    "id": "2WRNhBDs-u-X"
   },
   "outputs": [],
   "source": [
    "### Some core parameters for training\n",
    "num_train = generator_train.n\n",
    "num_test = generator_test.n\n",
    "steps_test = num_test//batch_size\n",
    "steps_per_epoch = num_train // batch_size"
   ]
  },
  {
   "cell_type": "markdown",
   "metadata": {
    "colab_type": "text",
    "id": "NFUu9YNj5G-B"
   },
   "source": [
    "Get the class-names for the dataset."
   ]
  },
  {
   "cell_type": "code",
   "execution_count": 19,
   "metadata": {
    "colab": {},
    "colab_type": "code",
    "id": "rGDOBLIt-u-f"
   },
   "outputs": [
    {
     "name": "stdout",
     "output_type": "stream",
     "text": [
      "['male', 'female']\n",
      "2\n"
     ]
    }
   ],
   "source": [
    "### Re-check our dataset\n",
    "cls_train = generator_train.classes\n",
    "cls_test = generator_test.classes\n",
    "class_names = list(generator_train.class_indices.keys())\n",
    "print(class_names)\n",
    "num_classes = generator_train.num_classes\n",
    "print(num_classes)"
   ]
  },
  {
   "cell_type": "markdown",
   "metadata": {
    "colab_type": "text",
    "id": "yjUWIcia8802"
   },
   "source": [
    "## Define your CNN model"
   ]
  },
  {
   "cell_type": "code",
   "execution_count": 33,
   "metadata": {},
   "outputs": [],
   "source": [
    "# import library\n",
    "from keras.models import Sequential,Model\n",
    "from keras.layers import Dense\n",
    "from keras.layers import Dropout\n",
    "from keras.layers import Flatten\n",
    "from keras.layers.convolutional import Conv2D\n",
    "from keras.layers.convolutional import MaxPooling2D\n",
    "from keras.utils import np_utils\n",
    "from IPython.display import Image\n",
    "from keras.optimizers import Adam"
   ]
  },
  {
   "cell_type": "code",
   "execution_count": 35,
   "metadata": {
    "colab": {},
    "colab_type": "code",
    "id": "vAsvFbAg4p2J"
   },
   "outputs": [],
   "source": [
    "# Create model \n",
    "model = Sequential()\n",
    "# Add convolution 2D shape (5x5x32),padding same, stride=1)\n",
    "\"\"\"Your code here:\"\"\"\n",
    "model.add(\n",
    "    Conv2D(\n",
    "        filters=16,\n",
    "        kernel_size=(5,5),\n",
    "        padding='same',\n",
    "        strides=(1, 1),\n",
    "        activation='relu',\n",
    "        input_shape=(64,64,3),\n",
    "        name='CONV_1'    \n",
    "    )\n",
    ")\n",
    "\n",
    "# Add Max_pooling 2D kernel size(2,2),no padding, stride=2\n",
    "\"\"\"Your code here:\"\"\"\n",
    "model.add(\n",
    "    MaxPooling2D(\n",
    "        pool_size=(2,2), \n",
    "        strides=(2,2), \n",
    "        padding='valid', \n",
    "        name=\"MAX_POOL_1\"\n",
    "    )\n",
    ")\n",
    "\n",
    "# Add convolution 2D shape (3x3x64),padding same, stride=1 \n",
    "\"\"\"Your code here:\"\"\"\n",
    "model.add(\n",
    "    Conv2D(\n",
    "        filters=32,\n",
    "        kernel_size=(3,3),\n",
    "        padding='same',\n",
    "        strides=(1, 1),\n",
    "        activation='relu',\n",
    "        name='CONV_2'    \n",
    "    )\n",
    ")\n",
    "\n",
    "# Add Max_pooling 2D kernel size(2,2)\n",
    "\"\"\"Your code here:\"\"\"\n",
    "model.add(\n",
    "    MaxPooling2D(\n",
    "        pool_size=(2,2), \n",
    "        strides=(2,2), \n",
    "        padding='valid', \n",
    "        name=\"MAX_POOL_2\"\n",
    "    )\n",
    ")\n",
    "\n",
    "# ADD flatten \n",
    "\"\"\"Your code here:\"\"\"\n",
    "model.add(\n",
    "    Flatten(name=\"FLATTEN\")\n",
    ")\n",
    "\n",
    "# ADD dense layer 512 hidden unit\n",
    "\"\"\"Your code here:\"\"\"\n",
    "model.add(\n",
    "    Dense(\n",
    "        units=512,\n",
    "        activation='relu',\n",
    "        name=\"Dense_1\"\n",
    "    )\n",
    ")\n",
    "# ADD dense layer\n",
    "model.add(Dense(num_classes, activation='softmax',name=\"Dense_2\"))\n"
   ]
  },
  {
   "cell_type": "code",
   "execution_count": 36,
   "metadata": {
    "colab": {},
    "colab_type": "code",
    "id": "4KrIKBhc6ruj"
   },
   "outputs": [
    {
     "name": "stdout",
     "output_type": "stream",
     "text": [
      "_________________________________________________________________\n",
      "Layer (type)                 Output Shape              Param #   \n",
      "=================================================================\n",
      "CONV_1 (Conv2D)              (None, 64, 64, 16)        1216      \n",
      "_________________________________________________________________\n",
      "MAX_POOL_1 (MaxPooling2D)    (None, 32, 32, 16)        0         \n",
      "_________________________________________________________________\n",
      "CONV_2 (Conv2D)              (None, 32, 32, 32)        4640      \n",
      "_________________________________________________________________\n",
      "MAX_POOL_2 (MaxPooling2D)    (None, 16, 16, 32)        0         \n",
      "_________________________________________________________________\n",
      "FLATTEN (Flatten)            (None, 8192)              0         \n",
      "_________________________________________________________________\n",
      "Dense_1 (Dense)              (None, 512)               4194816   \n",
      "_________________________________________________________________\n",
      "Dense_2 (Dense)              (None, 2)                 1026      \n",
      "=================================================================\n",
      "Total params: 4,201,698\n",
      "Trainable params: 4,201,698\n",
      "Non-trainable params: 0\n",
      "_________________________________________________________________\n"
     ]
    }
   ],
   "source": [
    "optimizer = Adam(lr=1e-4)\n",
    "\n",
    "# Compile model\n",
    "model.compile(\n",
    "    loss='categorical_crossentropy', \n",
    "    optimizer=optimizer, \n",
    "    metrics=['accuracy']\n",
    ")\n",
    "\n",
    "# Summary model\n",
    "model.summary()"
   ]
  },
  {
   "cell_type": "markdown",
   "metadata": {
    "colab_type": "text",
    "id": "-_0-eR7Z9GBv"
   },
   "source": [
    "## Training"
   ]
  },
  {
   "cell_type": "code",
   "execution_count": 37,
   "metadata": {
    "colab": {},
    "colab_type": "code",
    "id": "f7TkNLcO6tTq"
   },
   "outputs": [
    {
     "name": "stdout",
     "output_type": "stream",
     "text": [
      "Epoch 1/1\n",
      "1185/1185 [==============================] - 225s 190ms/step - loss: 0.4019 - acc: 0.8177 - val_loss: 0.3166 - val_acc: 0.8701\n"
     ]
    },
    {
     "ename": "NameError",
     "evalue": "name 'X_test' is not defined",
     "output_type": "error",
     "traceback": [
      "\u001b[0;31m---------------------------------------------------------------------------\u001b[0m",
      "\u001b[0;31mNameError\u001b[0m                                 Traceback (most recent call last)",
      "\u001b[0;32m<ipython-input-37-0ef2f32b73af>\u001b[0m in \u001b[0;36m<module>\u001b[0;34m()\u001b[0m\n\u001b[1;32m      8\u001b[0m \u001b[0;34m\u001b[0m\u001b[0m\n\u001b[1;32m      9\u001b[0m \u001b[0;31m# Final evaluation of the model\u001b[0m\u001b[0;34m\u001b[0m\u001b[0;34m\u001b[0m\u001b[0m\n\u001b[0;32m---> 10\u001b[0;31m \u001b[0mscores\u001b[0m \u001b[0;34m=\u001b[0m \u001b[0mmodel\u001b[0m\u001b[0;34m.\u001b[0m\u001b[0mevaluate\u001b[0m\u001b[0;34m(\u001b[0m\u001b[0mX_test\u001b[0m\u001b[0;34m,\u001b[0m \u001b[0my_test\u001b[0m\u001b[0;34m,\u001b[0m \u001b[0mverbose\u001b[0m\u001b[0;34m=\u001b[0m\u001b[0;36m0\u001b[0m\u001b[0;34m)\u001b[0m\u001b[0;34m\u001b[0m\u001b[0m\n\u001b[0m\u001b[1;32m     11\u001b[0m \u001b[0;34m\u001b[0m\u001b[0m\n\u001b[1;32m     12\u001b[0m \u001b[0mprint\u001b[0m\u001b[0;34m(\u001b[0m\u001b[0;34m\"Accuary score :\"\u001b[0m\u001b[0;34m,\u001b[0m \u001b[0mscores\u001b[0m\u001b[0;34m[\u001b[0m\u001b[0;36m1\u001b[0m\u001b[0;34m]\u001b[0m\u001b[0;34m)\u001b[0m\u001b[0;34m\u001b[0m\u001b[0m\n",
      "\u001b[0;31mNameError\u001b[0m: name 'X_test' is not defined"
     ]
    }
   ],
   "source": [
    "history = \\\n",
    "model.fit_generator(\n",
    "    generator=generator_train,\n",
    "    epochs=1,\n",
    "    steps_per_epoch=steps_per_epoch,\n",
    "    validation_data=generator_test,\n",
    "    validation_steps=steps_test\n",
    ")"
   ]
  },
  {
   "cell_type": "code",
   "execution_count": 38,
   "metadata": {},
   "outputs": [
    {
     "name": "stdout",
     "output_type": "stream",
     "text": [
      "Accuary score : 0.8700696055935898\n"
     ]
    }
   ],
   "source": [
    "# Final evaluation of the model\n",
    "scores = model.evaluate_generator(\n",
    "                  generator_test,\n",
    "                  verbose=0\n",
    "               )\n",
    "\n",
    "print(\"Accuary score :\", scores[1])"
   ]
  },
  {
   "cell_type": "markdown",
   "metadata": {
    "colab_type": "text",
    "id": "GcHN9srx9IPu"
   },
   "source": [
    "## Show training history as a graph\n",
    "Keras records the performance metrics at the end of each \"epoch\" so they can be plotted later. This shows that the loss-value for the training-set generally decreased during training, but the loss-values for the test-set were a bit more erratic. Similarly, the classification accuracy generally improved on the training-set while it was a bit more erratic on the test-set."
   ]
  },
  {
   "cell_type": "code",
   "execution_count": 61,
   "metadata": {
    "colab": {},
    "colab_type": "code",
    "id": "trYBlACK7pps"
   },
   "outputs": [],
   "source": [
    "def plot_training_history(history):\n",
    "    # Get the classification accuracy and loss-value\n",
    "    # for the training-set.\n",
    "    acc = history.history['acc']\n",
    "    loss = history.history['loss']\n",
    "\n",
    "    # Get it for the validation-set (we only use the test-set).\n",
    "    val_acc = history.history['val_acc']\n",
    "    val_loss = history.history['val_loss']\n",
    "\n",
    "    # Plot the accuracy and loss-values for the training-set.\n",
    "    plt.plot(acc, linestyle='-', color='b', label='Training Acc.')\n",
    "    plt.plot(loss, 'o', color='b', label='Training Loss')\n",
    "    \n",
    "    # Plot it for the test-set.\n",
    "    plt.plot(val_acc, linestyle='--', color='r', label='Test Acc.')\n",
    "    plt.plot(val_loss, 'o', color='r', label='Test Loss')\n",
    "\n",
    "    # Plot title and legend.\n",
    "    plt.title('Training and Test Accuracy')\n",
    "    plt.legend()\n",
    "\n",
    "    # Ensure the plot shows correctly.\n",
    "    plt.show()"
   ]
  },
  {
   "cell_type": "code",
   "execution_count": 63,
   "metadata": {
    "colab": {},
    "colab_type": "code",
    "id": "lFRnb4KZ7wAy"
   },
   "outputs": [
    {
     "data": {
      "image/png": "[encoded data removed]",
      "text/plain": [
       "<Figure size 432x288 with 1 Axes>"
      ]
     },
     "metadata": {},
     "output_type": "display_data"
    }
   ],
   "source": [
    "plot_training_history(history)"
   ]
  },
  {
   "cell_type": "markdown",
   "metadata": {},
   "source": [
    "## Predict image"
   ]
  },
  {
   "cell_type": "markdown",
   "metadata": {},
   "source": [
    "Create ground-truth for your PoC, that contain the index and class name\n",
    "\n",
    "Ex:\n",
    "{0:\"Ford\", 1:'Lambor', 2: \"Range\"}"
   ]
  },
  {
   "cell_type": "code",
   "execution_count": 39,
   "metadata": {},
   "outputs": [
    {
     "data": {
      "text/plain": [
       "{'female': 0, 'male': 1}"
      ]
     },
     "execution_count": 39,
     "metadata": {},
     "output_type": "execute_result"
    }
   ],
   "source": [
    "generator_train.class_indices"
   ]
  },
  {
   "cell_type": "code",
   "execution_count": 40,
   "metadata": {},
   "outputs": [],
   "source": [
    "ground_truth = {0: 'female', 1: 'male'}"
   ]
  },
  {
   "cell_type": "code",
   "execution_count": 44,
   "metadata": {},
   "outputs": [],
   "source": [
    "import PIL"
   ]
  },
  {
   "cell_type": "code",
   "execution_count": 78,
   "metadata": {},
   "outputs": [],
   "source": [
    "\n",
    "def predict(image_path, model):\n",
    "    # Load and resize the image using PIL.\n",
    "    # Use tensorflow to load image (Work with transparent image like png)\n",
    "    img = load_img(image_path, target_size=input_shape)\n",
    "    # print(img)\n",
    "    # Plot the image.\n",
    "    plt.imshow(img)\n",
    "    plt.show()\n",
    "\n",
    "    img_arr = img_to_array(img)/255.\n",
    "    img_arr = np.expand_dims(img_arr, axis=0)\n",
    "    print(\"Input shape:\", img_arr.shape)\n",
    "    \n",
    "    pred1 = model.predict(img_arr)\n",
    "    \n",
    "    #pred = model.predict_classes(img_array)\n",
    "    label = np.argmax(pred1,axis=1)\n",
    "    print(\"Label:\", label)\n",
    "    print(\"Prediction - list of [P(female), P(male)]:\", pred1)\n",
    "    return ground_truth[label[0]]"
   ]
  },
  {
   "cell_type": "code",
   "execution_count": 57,
   "metadata": {},
   "outputs": [
    {
     "data": {
      "image/png": "[encoded data removed]",
      "text/plain": [
       "<Figure size 432x288 with 1 Axes>"
      ]
     },
     "metadata": {},
     "output_type": "display_data"
    },
    {
     "name": "stdout",
     "output_type": "stream",
     "text": [
      "Input shape: (1, 64, 64, 3)\n",
      "Label: [1]\n",
      "Prediction [P(female), P(male)] [[0.0759252 0.9240748]]\n"
     ]
    },
    {
     "data": {
      "text/plain": [
       "'male'"
      ]
     },
     "execution_count": 57,
     "metadata": {},
     "output_type": "execute_result"
    }
   ],
   "source": [
    "predict(\n",
    "    image_path='../UTKFace_dataset/test/male/10_0_0_20170110220033115.jpg.chip.jpg',\n",
    "    model=model\n",
    ")"
   ]
  },
  {
   "cell_type": "code",
   "execution_count": 66,
   "metadata": {},
   "outputs": [],
   "source": [
    "pred = model.predict_generator(generator_test)"
   ]
  },
  {
   "cell_type": "code",
   "execution_count": 65,
   "metadata": {},
   "outputs": [
    {
     "data": {
      "text/plain": [
       "array([0, 0, 0, ..., 1, 1, 1], dtype=int32)"
      ]
     },
     "execution_count": 65,
     "metadata": {},
     "output_type": "execute_result"
    }
   ],
   "source": [
    "generator_test.classes"
   ]
  },
  {
   "cell_type": "code",
   "execution_count": 70,
   "metadata": {},
   "outputs": [
    {
     "data": {
      "text/plain": [
       "array([1, 1, 0, ..., 1, 0, 1])"
      ]
     },
     "execution_count": 70,
     "metadata": {},
     "output_type": "execute_result"
    }
   ],
   "source": [
    "pred.argmax(axis=-1)"
   ]
  },
  {
   "cell_type": "code",
   "execution_count": 72,
   "metadata": {},
   "outputs": [],
   "source": [
    "compare = generator_test.classes == pred.argmax(axis=-1)"
   ]
  },
  {
   "cell_type": "code",
   "execution_count": 74,
   "metadata": {},
   "outputs": [
    {
     "name": "stdout",
     "output_type": "stream",
     "text": [
      "[0, 1, 3, 4, 5, 11, 14, 15, 16, 26, 32, 34, 37, 40, 42, 47, 51, 53, 64, 68, 75, 78, 92, 101, 127, 145, 151, 178, 184, 188, 194, 195, 201, 204, 205, 207, 210, 218, 221, 222, 225, 233, 236, 238, 246, 249, 252, 254, 255, 256, 272, 275, 278, 282, 288, 296, 299, 330, 345, 351, 358, 401, 446, 461, 466, 500, 506, 512, 522, 544, 551, 583, 594, 611, 626, 630, 643, 651, 657, 668, 680, 682, 685, 690, 699, 733, 740, 749, 751, 753, 767, 768, 773, 774, 775, 776, 779, 780, 793, 819, 836, 849, 853, 857, 869, 880, 889, 910, 921, 922, 941, 951, 957, 968, 975, 1022, 1024, 1045, 1098, 1099, 1127, 1129, 1131, 1132, 1135, 1137, 1141, 1142, 1144, 1153, 1156, 1164, 1165, 1170, 1181, 1194, 1198, 1201, 1204, 1224, 1239, 1248, 1249, 1264, 1290, 1312, 1313, 1325, 1365, 1368, 1373, 1375, 1376, 1384, 1399, 1411, 1418, 1426, 1433, 1456, 1458, 1480, 1498, 1500, 1502, 1511, 1533, 1545, 1565, 1578, 1587, 1590, 1593, 1597, 1603, 1615, 1619, 1621, 1622, 1631, 1632, 1634, 1640, 1642, 1670, 1679, 1682, 1699, 1701, 1705, 1710, 1717, 1726, 1729, 1748, 1761, 1769, 1776, 1800, 1825, 1836, 1840, 1847, 1849, 1850, 1858, 1872, 1888, 1892, 1895, 1898, 1900, 1902, 1909, 1916, 1917, 1924, 1925, 1932, 1944, 1945, 1946, 1947, 1957, 1959, 1989, 1991, 1997, 2000, 2002, 2018, 2022, 2030, 2035, 2041, 2049, 2055, 2057, 2058, 2063, 2066, 2071, 2073, 2074, 2078, 2082, 2097, 2101, 2102, 2105, 2106, 2107, 2108, 2109, 2115, 2119, 2120, 2122, 2125, 2127, 2139, 2140, 2148, 2150, 2157, 2158, 2159, 2161, 2162, 2164, 2166, 2168, 2169, 2172, 2181, 2182, 2184, 2185, 2187, 2188, 2189, 2190, 2192, 2194, 2195, 2196, 2197, 2198, 2199, 2200, 2207, 2208, 2217, 2219, 2227, 2238, 2244, 2251, 2252, 2254, 2255, 2256, 2258, 2259, 2266, 2267, 2268, 2269, 2270, 2271, 2274, 2275, 2277, 2279, 2286, 2288, 2294, 2295, 2296, 2298, 2300, 2302, 2303, 2305, 2311, 2321, 2323, 2327, 2328, 2331, 2337, 2338, 2341, 2343, 2349, 2354, 2356, 2357, 2359, 2362, 2365, 2367, 2381, 2384, 2405, 2406, 2408, 2411, 2412, 2413, 2415, 2416, 2418, 2421, 2424, 2425, 2426, 2427, 2429, 2430, 2433, 2436, 2437, 2438, 2439, 2443, 2445, 2446, 2451, 2453, 2454, 2455, 2456, 2461, 2465, 2466, 2467, 2468, 2470, 2471, 2474, 2476, 2479, 2487, 2488, 2489, 2491, 2492, 2495, 2496, 2499, 2500, 2501, 2503, 2504, 2507, 2510, 2511, 2512, 2513, 2514, 2515, 2516, 2517, 2518, 2520, 2523, 2530, 2531, 2532, 2534, 2537, 2541, 2570, 2573, 2574, 2575, 2576, 2580, 2581, 2582, 2601, 2602, 2603, 2610, 2611, 2616, 2617, 2620, 2629, 2643, 2646, 2654, 2662, 2671, 2674, 2675, 2676, 2694, 2702, 2714, 2722, 2744, 2762, 2775, 2777, 2778, 2781, 2782, 2792, 2810, 2811, 2812, 2821, 2866, 2874, 2890, 2906, 2909, 2943, 2959, 2973, 2988, 2994, 3004, 3022, 3025, 3054, 3060, 3140, 3161, 3162, 3163, 3164, 3165, 3174, 3180, 3181, 3187, 3189, 3190, 3191, 3192, 3194, 3196, 3219, 3224, 3239, 3243, 3252, 3267, 3272, 3291, 3292, 3308, 3343, 3349, 3375, 3380, 3383, 3486, 3500, 3502, 3524, 3531, 3567, 3618, 3627, 3639, 3651, 3682, 3703, 3719, 3727, 3728, 3729, 3732, 3733, 3736, 3737, 3738, 3740, 3764, 3794, 3803, 3807, 3816, 3826, 3829, 3911, 3996, 4003, 4004, 4027, 4039, 4041, 4042, 4045, 4046, 4047, 4049, 4050, 4051, 4052, 4055, 4057, 4075, 4113, 4133, 4145, 4169, 4177, 4195, 4223, 4229, 4239, 4247, 4308, 4323, 4324, 4344, 4354, 4374, 4375, 4376, 4379, 4380, 4381, 4382, 4383, 4384, 4385, 4386, 4390, 4396, 4443, 4456, 4460, 4463, 4548, 4550, 4558, 4567, 4587, 4603, 4630, 4636, 4637, 4639, 4641, 4646, 4648, 4650, 4683, 4687, 4697, 4699, 4702, 4705, 4708, 4714, 4717, 4718, 4720, 4725, 4726, 4727, 4729, 4730, 4731, 4732, 4733, 4734, 4735, 4736, 4739]\n"
     ]
    }
   ],
   "source": [
    "err_idd = []\n",
    "for i in range(len(compare)):\n",
    "    if not compare[i]:\n",
    "        err_idd.append(i)\n",
    "print(err_idd)"
   ]
  },
  {
   "cell_type": "code",
   "execution_count": 82,
   "metadata": {},
   "outputs": [
    {
     "data": {
      "image/png": "[encoded data removed]",
      "text/plain": [
       "<Figure size 432x288 with 1 Axes>"
      ]
     },
     "metadata": {},
     "output_type": "display_data"
    },
    {
     "name": "stdout",
     "output_type": "stream",
     "text": [
      "Input shape: (1, 64, 64, 3)\n",
      "Label: [0]\n",
      "Prediction - list of [P(female), P(male)]: [[0.8211879 0.1788121]]\n"
     ]
    },
    {
     "data": {
      "text/plain": [
       "'female'"
      ]
     },
     "execution_count": 82,
     "metadata": {},
     "output_type": "execute_result"
    }
   ],
   "source": [
    "idd = 3194\n",
    "img_path = test_dir + '/' + generator_test.filenames[idd]\n",
    "predict(\n",
    "    image_path=img_path,\n",
    "    model=model\n",
    ")"
   ]
  },
  {
   "cell_type": "code",
   "execution_count": null,
   "metadata": {},
   "outputs": [],
   "source": []
  }
 ],
 "metadata": {
  "celltoolbar": "Raw Cell Format",
  "colab": {
   "collapsed_sections": [],
   "name": "PoC_Practice.ipynb",
   "provenance": [],
   "version": "0.3.2"
  },
  "kernelspec": {
   "display_name": "Python 3",
   "language": "python",
   "name": "python3"
  },
  "language_info": {
   "codemirror_mode": {
    "name": "ipython",
    "version": 3
   },
   "file_extension": ".py",
   "mimetype": "text/x-python",
   "name": "python",
   "nbconvert_exporter": "python",
   "pygments_lexer": "ipython3",
   "version": "3.6.4"
  }
 },
 "nbformat": 4,
 "nbformat_minor": 1
}
