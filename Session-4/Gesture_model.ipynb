{
 "cells": [
  {
   "cell_type": "markdown",
   "metadata": {
    "colab_type": "text",
    "id": "UsZPCLvU8aII"
   },
   "source": [
    "# Computer Vision Course #04\n",
    "## Train Deep Learning Model Practice\n",
    "by Can Nguyen - TIC Computer Vision Team\n"
   ]
  },
  {
   "cell_type": "markdown",
   "metadata": {},
   "source": [
    "## Introduction\n",
    "In this practice, you will train your deep learning model for your PoC Practice, in Python using the Keras deep learning library.\n",
    "\n",
    "After completing this tutorial, you will know:\n",
    "\n",
    "+ How to load your dataset in Keras.\n",
    "\n",
    "+ How to add data augmentation method for your dataset in Keras.\n",
    "\n",
    "+ How to implement and evaluate Convolutional Neural Network with Regularization techniques for your dataset.\n",
    "\n",
    "Let’s get started."
   ]
  },
  {
   "cell_type": "markdown",
   "metadata": {},
   "source": [
    "## Imports"
   ]
  },
  {
   "cell_type": "code",
   "execution_count": 2,
   "metadata": {
    "colab": {},
    "colab_type": "code",
    "id": "ELNGB9dw-u-J"
   },
   "outputs": [
    {
     "name": "stderr",
     "output_type": "stream",
     "text": [
      "Using TensorFlow backend.\n"
     ]
    }
   ],
   "source": [
    "import matplotlib.pyplot as plt\n",
    "%matplotlib inline\n",
    "\n",
    "#Import library\n",
    "import os\n",
    "os.environ['KERAS_BACKEND'] = 'tensorflow'\n",
    "from keras.datasets import mnist\n",
    "from keras.preprocessing.image import ImageDataGenerator\n",
    "from keras import backend as K\n",
    "from keras.preprocessing.image import load_img, img_to_array\n",
    "\n",
    "import numpy as np"
   ]
  },
  {
   "cell_type": "markdown",
   "metadata": {},
   "source": [
    "## Input Pipeline"
   ]
  },
  {
   "cell_type": "markdown",
   "metadata": {},
   "source": [
    "Keras uses a so-called data-generator for inputting data into the neural network, which will loop over the data for eternity.\n",
    "\n",
    "We have a small training-set so it helps to artificially inflate its size by making various transformations to the images. We use a built-in data-generator that can make these random transformations. This is also called an augmented dataset."
   ]
  },
  {
   "cell_type": "code",
   "execution_count": 3,
   "metadata": {},
   "outputs": [
    {
     "name": "stdout",
     "output_type": "stream",
     "text": [
      "test  train\r\n"
     ]
    }
   ],
   "source": [
    "!ls ./gesture_data"
   ]
  },
  {
   "cell_type": "code",
   "execution_count": 4,
   "metadata": {},
   "outputs": [],
   "source": [
    "input_shape = (64,64)\n",
    "#Enter the path to your dataset\n",
    "train_dir= './gesture_data/train'\n",
    "#change \"valid\" to \"test\" if your dataset doesn't have \"valid\" folder\n",
    "test_dir = './gesture_data/test' \n",
    "\n",
    "#---------------------------\n",
    "\n",
    "\n",
    "\"\"\"Data generator for training dataset\"\"\"\n",
    "datagen_train = \\\n",
    "ImageDataGenerator(\n",
    "    rescale=1./255,\n",
    "    horizontal_flip=True,\n",
    "    data_format = 'channels_last'\n",
    ")"
   ]
  },
  {
   "cell_type": "markdown",
   "metadata": {},
   "source": [
    "We also need a data-generator for the test-set, but this should not do any transformations to the images because we want to know the exact classification accuracy on those specific images. So we just rescale the pixel-values so they are between 0.0 and 1.0"
   ]
  },
  {
   "cell_type": "code",
   "execution_count": 5,
   "metadata": {},
   "outputs": [],
   "source": [
    "\"\"\"Data generator for test dataset\"\"\"\n",
    "datagen_test = \\\n",
    "ImageDataGenerator(\n",
    "    rescale=1./255,\n",
    "    data_format= \"channels_last\"\n",
    ")"
   ]
  },
  {
   "cell_type": "markdown",
   "metadata": {},
   "source": [
    "The data-generators will return batches of images."
   ]
  },
  {
   "cell_type": "code",
   "execution_count": 6,
   "metadata": {},
   "outputs": [],
   "source": [
    "batch_size = 16"
   ]
  },
  {
   "cell_type": "markdown",
   "metadata": {},
   "source": [
    "We can save the randomly transformed images during training, so as to inspect whether they have been overly distorted, so we have to adjust the parameters for the data-generator above."
   ]
  },
  {
   "cell_type": "code",
   "execution_count": 7,
   "metadata": {},
   "outputs": [],
   "source": [
    "if True:\n",
    "    save_to_dir = None\n",
    "else:\n",
    "    save_to_dir='./gesture_data/augmented_images/'"
   ]
  },
  {
   "cell_type": "markdown",
   "metadata": {},
   "source": [
    "Now we create the actual data-generator that will read files from disk, resize the images and return a random batch.\n",
    "\n",
    "It is somewhat awkward that the construction of the data-generator is split into these two steps, but it is probably because there are different kinds of data-generators available for different data-types (images, text, etc.) and sources (memory or disk)."
   ]
  },
  {
   "cell_type": "code",
   "execution_count": 8,
   "metadata": {},
   "outputs": [
    {
     "name": "stdout",
     "output_type": "stream",
     "text": [
      "Found 1080 images belonging to 6 classes.\n",
      "Found 120 images belonging to 6 classes.\n"
     ]
    }
   ],
   "source": [
    "generator_train = \\\n",
    "datagen_train.flow_from_directory(\n",
    "    directory=train_dir,\n",
    "    target_size=input_shape,\n",
    "    batch_size=batch_size,\n",
    "    shuffle=True,\n",
    "    save_to_dir=save_to_dir\n",
    ")\n",
    "\n",
    "generator_test = \\\n",
    "datagen_test.flow_from_directory(\n",
    "    directory=test_dir,\n",
    "    target_size=input_shape,\n",
    "    batch_size=batch_size,\n",
    "    shuffle=False\n",
    ")"
   ]
  },
  {
   "cell_type": "code",
   "execution_count": 9,
   "metadata": {},
   "outputs": [
    {
     "data": {
      "text/plain": [
       "(64, 64, 3)"
      ]
     },
     "execution_count": 9,
     "metadata": {},
     "output_type": "execute_result"
    }
   ],
   "source": [
    "generator_train.image_shape"
   ]
  },
  {
   "cell_type": "markdown",
   "metadata": {
    "colab_type": "text",
    "id": "wD572AQW8vFH"
   },
   "source": [
    "Define parameters for training"
   ]
  },
  {
   "cell_type": "code",
   "execution_count": 10,
   "metadata": {
    "colab": {},
    "colab_type": "code",
    "id": "2WRNhBDs-u-X"
   },
   "outputs": [],
   "source": [
    "### Some core parameters for training\n",
    "num_train = generator_train.n\n",
    "num_test = generator_test.n\n",
    "steps_test = num_test//batch_size\n",
    "steps_per_epoch = num_train // batch_size"
   ]
  },
  {
   "cell_type": "markdown",
   "metadata": {
    "colab_type": "text",
    "id": "NFUu9YNj5G-B"
   },
   "source": [
    "Get the class-names for the dataset."
   ]
  },
  {
   "cell_type": "code",
   "execution_count": 11,
   "metadata": {
    "colab": {},
    "colab_type": "code",
    "id": "rGDOBLIt-u-f"
   },
   "outputs": [
    {
     "name": "stdout",
     "output_type": "stream",
     "text": [
      "['0', '1', '2', '3', '4', '5']\n",
      "6\n"
     ]
    }
   ],
   "source": [
    "### Re-check our dataset\n",
    "cls_train = generator_train.classes\n",
    "cls_test = generator_test.classes\n",
    "class_names = list(generator_train.class_indices.keys())\n",
    "print(class_names)\n",
    "num_classes = generator_train.num_classes\n",
    "print(num_classes)"
   ]
  },
  {
   "cell_type": "markdown",
   "metadata": {
    "colab_type": "text",
    "id": "yjUWIcia8802"
   },
   "source": [
    "## Define your CNN model"
   ]
  },
  {
   "cell_type": "code",
   "execution_count": 72,
   "metadata": {},
   "outputs": [],
   "source": [
    "# import library\n",
    "from keras.models import Sequential,Model\n",
    "from keras.layers import Dense\n",
    "from keras.layers import Dropout\n",
    "from keras.layers import Flatten, BatchNormalization\n",
    "from keras.layers.convolutional import Conv2D\n",
    "from keras.layers.convolutional import MaxPooling2D\n",
    "from keras.utils import np_utils\n",
    "from IPython.display import Image\n",
    "from keras.optimizers import Adam\n",
    "from keras import regularizers"
   ]
  },
  {
   "cell_type": "code",
   "execution_count": 75,
   "metadata": {
    "colab": {},
    "colab_type": "code",
    "id": "vAsvFbAg4p2J"
   },
   "outputs": [],
   "source": [
    "# Create model \n",
    "model = Sequential()\n",
    "# Add convolution 2D shape (5x5x32),padding same, stride=1)\n",
    "\"\"\"Your code here:\"\"\"\n",
    "model.add(\n",
    "    Conv2D(\n",
    "        filters=32,\n",
    "        kernel_size=(5,5),\n",
    "        padding='same',\n",
    "        strides=(1, 1),\n",
    "        activation='relu',\n",
    "        input_shape=(64,64,3),\n",
    "        kernel_regularizer=regularizers.l2(0.01),\n",
    "        kernel_initializer='he_normal',\n",
    "        name='CONV_1'    \n",
    "    )\n",
    ")\n",
    "\n",
    "# Add Max_pooling 2D kernel size(2,2),no padding, stride=2\n",
    "\"\"\"Your code here:\"\"\"\n",
    "model.add(\n",
    "    MaxPooling2D(\n",
    "        pool_size=(2,2), \n",
    "        strides=(2,2), \n",
    "        padding='valid', \n",
    "        name=\"MAX_POOL_1\"\n",
    "    )\n",
    ")\n",
    "\n",
    "# Add convolution 2D shape (3x3x64),padding same, stride=1 \n",
    "\"\"\"Your code here:\"\"\"\n",
    "model.add(\n",
    "    Conv2D(\n",
    "        filters=64,\n",
    "        kernel_size=(5,5),\n",
    "        padding='valid',\n",
    "        strides=(1, 1),\n",
    "        activation='relu',\n",
    "        kernel_regularizer=regularizers.l2(0.01),\n",
    "        kernel_initializer='he_normal',\n",
    "        name='CONV_2'    \n",
    "    )\n",
    ")\n",
    "\n",
    "# Add Max_pooling 2D kernel size(2,2)\n",
    "\"\"\"Your code here:\"\"\"\n",
    "model.add(\n",
    "    MaxPooling2D(\n",
    "        pool_size=(2,2), \n",
    "        strides=(2,2), \n",
    "        padding='valid', \n",
    "        name=\"MAX_POOL_2\"\n",
    "    )\n",
    ")\n",
    "\n",
    "model.add(\n",
    "    BatchNormalization(name=\"BATCH1\")\n",
    ")\n",
    "\n",
    "# ADD Conv\n",
    "model.add(\n",
    "    Conv2D(\n",
    "        filters=128,\n",
    "        kernel_size=(3,3),\n",
    "        padding='same',\n",
    "        strides=(1, 1),\n",
    "        activation='relu',\n",
    "        kernel_regularizer=regularizers.l2(0.01),\n",
    "        kernel_initializer='he_normal',\n",
    "        name='CONV_3'    \n",
    "    )\n",
    ")\n",
    "\n",
    "# ADD Pool\n",
    "model.add(\n",
    "    MaxPooling2D(\n",
    "        pool_size=(2,2), \n",
    "        strides=(2,2), \n",
    "        padding='valid', \n",
    "        name=\"MAX_POOL_3\"\n",
    "    )\n",
    ")\n",
    "\n",
    "model.add(\n",
    "    BatchNormalization(name=\"BATCH2\")\n",
    ")\n",
    "# ADD flatten \n",
    "\"\"\"Your code here:\"\"\"\n",
    "model.add(\n",
    "    Flatten(name=\"FLATTEN\")\n",
    ")\n",
    "\n",
    "\n",
    "# ADD dense layer 512 hidden unit\n",
    "\"\"\"Your code here:\"\"\"\n",
    "model.add(\n",
    "    Dense(\n",
    "        units=512,\n",
    "        activation='relu',\n",
    "        name=\"Dense_1\"\n",
    "    )\n",
    ")\n",
    "\n",
    "model.add(\n",
    "    BatchNormalization(name=\"BATCH3\")\n",
    ")\n",
    "\n",
    "model.add(\n",
    "    Dense(\n",
    "        units=32,\n",
    "        activation='relu',\n",
    "        name=\"Dense_1a\"\n",
    "    )\n",
    ")\n",
    "# ADD dense layer\n",
    "model.add(\n",
    "    Dense(\n",
    "        units=num_classes,\n",
    "        activation='softmax',\n",
    "        name=\"Dense_2\"\n",
    "    )\n",
    ")\n"
   ]
  },
  {
   "cell_type": "code",
   "execution_count": 76,
   "metadata": {
    "colab": {},
    "colab_type": "code",
    "id": "4KrIKBhc6ruj"
   },
   "outputs": [
    {
     "name": "stdout",
     "output_type": "stream",
     "text": [
      "_________________________________________________________________\n",
      "Layer (type)                 Output Shape              Param #   \n",
      "=================================================================\n",
      "CONV_1 (Conv2D)              (None, 64, 64, 32)        2432      \n",
      "_________________________________________________________________\n",
      "MAX_POOL_1 (MaxPooling2D)    (None, 32, 32, 32)        0         \n",
      "_________________________________________________________________\n",
      "CONV_2 (Conv2D)              (None, 28, 28, 64)        51264     \n",
      "_________________________________________________________________\n",
      "MAX_POOL_2 (MaxPooling2D)    (None, 14, 14, 64)        0         \n",
      "_________________________________________________________________\n",
      "BATCH1 (BatchNormalization)  (None, 14, 14, 64)        256       \n",
      "_________________________________________________________________\n",
      "CONV_3 (Conv2D)              (None, 14, 14, 128)       73856     \n",
      "_________________________________________________________________\n",
      "MAX_POOL_3 (MaxPooling2D)    (None, 7, 7, 128)         0         \n",
      "_________________________________________________________________\n",
      "BATCH2 (BatchNormalization)  (None, 7, 7, 128)         512       \n",
      "_________________________________________________________________\n",
      "FLATTEN (Flatten)            (None, 6272)              0         \n",
      "_________________________________________________________________\n",
      "Dense_1 (Dense)              (None, 512)               3211776   \n",
      "_________________________________________________________________\n",
      "BATCH3 (BatchNormalization)  (None, 512)               2048      \n",
      "_________________________________________________________________\n",
      "Dense_1a (Dense)             (None, 32)                16416     \n",
      "_________________________________________________________________\n",
      "Dense_2 (Dense)              (None, 6)                 198       \n",
      "=================================================================\n",
      "Total params: 3,358,758\n",
      "Trainable params: 3,357,350\n",
      "Non-trainable params: 1,408\n",
      "_________________________________________________________________\n"
     ]
    }
   ],
   "source": [
    "optimizer = Adam(lr=1e-4)\n",
    "\n",
    "# Compile model\n",
    "model.compile(\n",
    "    loss='categorical_crossentropy', \n",
    "    optimizer=optimizer, \n",
    "    metrics=['accuracy']\n",
    ")\n",
    "\n",
    "# Summary model\n",
    "model.summary()"
   ]
  },
  {
   "cell_type": "markdown",
   "metadata": {
    "colab_type": "text",
    "id": "-_0-eR7Z9GBv"
   },
   "source": [
    "## Training"
   ]
  },
  {
   "cell_type": "code",
   "execution_count": 77,
   "metadata": {
    "colab": {},
    "colab_type": "code",
    "id": "f7TkNLcO6tTq",
    "scrolled": true
   },
   "outputs": [
    {
     "name": "stdout",
     "output_type": "stream",
     "text": [
      "Epoch 1/20\n",
      "67/67 [==============================] - 22s 324ms/step - loss: 5.6047 - acc: 0.5476 - val_loss: 5.2364 - val_acc: 0.6250\n",
      "Epoch 2/20\n",
      "67/67 [==============================] - 19s 289ms/step - loss: 4.8396 - acc: 0.8050 - val_loss: 4.9271 - val_acc: 0.7404\n",
      "Epoch 3/20\n",
      "67/67 [==============================] - 19s 288ms/step - loss: 4.4751 - acc: 0.8806 - val_loss: 4.4612 - val_acc: 0.8558\n",
      "Epoch 4/20\n",
      "67/67 [==============================] - 19s 288ms/step - loss: 4.2532 - acc: 0.9142 - val_loss: 4.4810 - val_acc: 0.7981\n",
      "Epoch 5/20\n",
      "67/67 [==============================] - 19s 288ms/step - loss: 4.0759 - acc: 0.9254 - val_loss: 4.6922 - val_acc: 0.7019\n",
      "Epoch 6/20\n",
      "67/67 [==============================] - 19s 288ms/step - loss: 3.8913 - acc: 0.9580 - val_loss: 4.0117 - val_acc: 0.8942\n",
      "Epoch 7/20\n",
      "67/67 [==============================] - 19s 290ms/step - loss: 3.7339 - acc: 0.9748 - val_loss: 3.9851 - val_acc: 0.8173\n",
      "Epoch 8/20\n",
      "67/67 [==============================] - 19s 289ms/step - loss: 3.6067 - acc: 0.9804 - val_loss: 4.4013 - val_acc: 0.6250\n",
      "Epoch 9/20\n",
      "67/67 [==============================] - 20s 298ms/step - loss: 3.4792 - acc: 0.9897 - val_loss: 3.9913 - val_acc: 0.7589\n",
      "Epoch 10/20\n",
      "67/67 [==============================] - 19s 290ms/step - loss: 3.3862 - acc: 0.9879 - val_loss: 3.5760 - val_acc: 0.8942\n",
      "Epoch 11/20\n",
      "67/67 [==============================] - 19s 289ms/step - loss: 3.2801 - acc: 0.9916 - val_loss: 3.4802 - val_acc: 0.9135\n",
      "Epoch 12/20\n",
      "67/67 [==============================] - 20s 293ms/step - loss: 3.1838 - acc: 0.9953 - val_loss: 3.4118 - val_acc: 0.8942\n",
      "Epoch 13/20\n",
      "67/67 [==============================] - 19s 290ms/step - loss: 3.1059 - acc: 0.9953 - val_loss: 4.3370 - val_acc: 0.5192\n",
      "Epoch 14/20\n",
      "67/67 [==============================] - 20s 292ms/step - loss: 3.0140 - acc: 0.9898 - val_loss: 3.2160 - val_acc: 0.9231\n",
      "Epoch 15/20\n",
      "67/67 [==============================] - 20s 297ms/step - loss: 2.9340 - acc: 0.9944 - val_loss: 3.1422 - val_acc: 0.9038\n",
      "Epoch 16/20\n",
      "67/67 [==============================] - 19s 291ms/step - loss: 2.8466 - acc: 0.9981 - val_loss: 3.0308 - val_acc: 0.9327\n",
      "Epoch 17/20\n",
      "67/67 [==============================] - 20s 294ms/step - loss: 2.7663 - acc: 0.9981 - val_loss: 3.0323 - val_acc: 0.8929\n",
      "Epoch 18/20\n",
      "67/67 [==============================] - 20s 296ms/step - loss: 2.6938 - acc: 0.9972 - val_loss: 2.9818 - val_acc: 0.8654\n",
      "Epoch 19/20\n",
      "67/67 [==============================] - 20s 292ms/step - loss: 2.6189 - acc: 0.9972 - val_loss: 2.7235 - val_acc: 0.9519\n",
      "Epoch 20/20\n",
      "67/67 [==============================] - 19s 290ms/step - loss: 2.5504 - acc: 0.9944 - val_loss: 2.6960 - val_acc: 0.9423\n"
     ]
    }
   ],
   "source": [
    "history = \\\n",
    "model.fit_generator(\n",
    "    generator=generator_train,\n",
    "    epochs=20,\n",
    "    steps_per_epoch=steps_per_epoch,\n",
    "    validation_data=generator_test,\n",
    "    validation_steps=steps_test\n",
    ")"
   ]
  },
  {
   "cell_type": "code",
   "execution_count": 78,
   "metadata": {},
   "outputs": [
    {
     "name": "stdout",
     "output_type": "stream",
     "text": [
      "Accuary score : 0.95\n"
     ]
    }
   ],
   "source": [
    "# Final evaluation of the model\n",
    "scores = model.evaluate_generator(\n",
    "                  generator_test,\n",
    "                  verbose=0\n",
    "               )\n",
    "\n",
    "print(\"Accuary score :\", scores[1])"
   ]
  },
  {
   "cell_type": "markdown",
   "metadata": {
    "colab_type": "text",
    "id": "GcHN9srx9IPu"
   },
   "source": [
    "## Show training history as a graph\n",
    "Keras records the performance metrics at the end of each \"epoch\" so they can be plotted later. This shows that the loss-value for the training-set generally decreased during training, but the loss-values for the test-set were a bit more erratic. Similarly, the classification accuracy generally improved on the training-set while it was a bit more erratic on the test-set."
   ]
  },
  {
   "cell_type": "code",
   "execution_count": 79,
   "metadata": {
    "colab": {},
    "colab_type": "code",
    "id": "trYBlACK7pps"
   },
   "outputs": [],
   "source": [
    "def plot_training_history(history):\n",
    "    # Get the classification accuracy and loss-value\n",
    "    # for the training-set.\n",
    "    acc = history.history['acc']\n",
    "    loss = history.history['loss']\n",
    "\n",
    "    # Get it for the validation-set (we only use the test-set).\n",
    "    val_acc = history.history['val_acc']\n",
    "    val_loss = history.history['val_loss']\n",
    "\n",
    "    # Plot the accuracy and loss-values for the training-set.\n",
    "    plt.plot(acc, linestyle='-', color='b', label='Training Acc.')\n",
    "    plt.plot(loss, 'o', color='b', label='Training Loss')\n",
    "    \n",
    "    # Plot it for the test-set.\n",
    "    plt.plot(val_acc, linestyle='--', color='r', label='Test Acc.')\n",
    "    plt.plot(val_loss, 'o', color='r', label='Test Loss')\n",
    "\n",
    "    # Plot title and legend.\n",
    "    plt.title('Training and Test Accuracy')\n",
    "    plt.legend()\n",
    "\n",
    "    # Ensure the plot shows correctly.\n",
    "    plt.show()"
   ]
  },
  {
   "cell_type": "code",
   "execution_count": 80,
   "metadata": {
    "colab": {},
    "colab_type": "code",
    "id": "lFRnb4KZ7wAy"
   },
   "outputs": [
    {
     "data": {
      "image/png": "[encoded data removed]",
      "text/plain": [
       "<Figure size 432x288 with 1 Axes>"
      ]
     },
     "metadata": {
      "needs_background": "light"
     },
     "output_type": "display_data"
    }
   ],
   "source": [
    "plot_training_history(history)"
   ]
  },
  {
   "cell_type": "markdown",
   "metadata": {},
   "source": [
    "## Predict image"
   ]
  },
  {
   "cell_type": "markdown",
   "metadata": {},
   "source": [
    "Create ground-truth for your PoC, that contain the index and class name\n",
    "\n",
    "Ex:\n",
    "{0:\"Ford\", 1:'Lambor', 2: \"Range\"}"
   ]
  },
  {
   "cell_type": "code",
   "execution_count": 81,
   "metadata": {},
   "outputs": [
    {
     "data": {
      "text/plain": [
       "{'0': 0, '1': 1, '2': 2, '3': 3, '4': 4, '5': 5}"
      ]
     },
     "execution_count": 81,
     "metadata": {},
     "output_type": "execute_result"
    }
   ],
   "source": [
    "generator_train.class_indices"
   ]
  },
  {
   "cell_type": "code",
   "execution_count": 82,
   "metadata": {},
   "outputs": [],
   "source": [
    "ground_truth = {0: '0', 1: '1', 2: '2', 3: '3', 4: '4', 5: '5'}"
   ]
  },
  {
   "cell_type": "code",
   "execution_count": 83,
   "metadata": {},
   "outputs": [],
   "source": [
    "import PIL"
   ]
  },
  {
   "cell_type": "code",
   "execution_count": 84,
   "metadata": {},
   "outputs": [],
   "source": [
    "def predict(image_path, model):\n",
    "    # Load and resize the image using PIL.\n",
    "    # Use tensorflow to load image (Work with transparent image like png)\n",
    "    img = load_img(image_path, target_size=input_shape)\n",
    "    # print(img)\n",
    "    # Plot the image.\n",
    "    plt.imshow(img)\n",
    "    plt.show()\n",
    "\n",
    "    img_arr = img_to_array(img)/255.\n",
    "    img_arr = np.expand_dims(img_arr, axis=0)\n",
    "    print(\"Input shape:\", img_arr.shape)\n",
    "    \n",
    "    pred1 = model.predict(img_arr)\n",
    "    \n",
    "    #pred = model.predict_classes(img_array)\n",
    "    label = np.argmax(pred1,axis=1)\n",
    "    print(\"Label:\", label)\n",
    "    print(\"Prediction - list of [P(0) ... P(5)]:\", pred1)\n",
    "    return ground_truth[label[0]]"
   ]
  },
  {
   "cell_type": "code",
   "execution_count": 85,
   "metadata": {},
   "outputs": [
    {
     "data": {
      "image/png": "[encoded data removed]",
      "text/plain": [
       "<Figure size 432x288 with 1 Axes>"
      ]
     },
     "metadata": {
      "needs_background": "light"
     },
     "output_type": "display_data"
    },
    {
     "name": "stdout",
     "output_type": "stream",
     "text": [
      "Input shape: (1, 64, 64, 3)\n",
      "Label: [5]\n",
      "Prediction - list of [P(0) ... P(5)]: [[5.4834904e-03 9.4618219e-05 8.6509628e-04 7.0882333e-04 1.0845121e-02\n",
      "  9.8200285e-01]]\n"
     ]
    },
    {
     "data": {
      "text/plain": [
       "'5'"
      ]
     },
     "execution_count": 85,
     "metadata": {},
     "output_type": "execute_result"
    }
   ],
   "source": [
    "predict(\n",
    "    image_path=test_dir + '/5/10.jpg',\n",
    "    model=model\n",
    ")"
   ]
  },
  {
   "cell_type": "code",
   "execution_count": 86,
   "metadata": {},
   "outputs": [],
   "source": [
    "pred = model.predict_generator(generator_test)"
   ]
  },
  {
   "cell_type": "code",
   "execution_count": 87,
   "metadata": {},
   "outputs": [
    {
     "data": {
      "text/plain": [
       "array([0, 0, 0, 0, 0, 0, 0, 0, 0, 0, 0, 0, 0, 0, 0, 0, 0, 0, 0, 0, 1, 1,\n",
       "       1, 1, 1, 1, 1, 1, 1, 1, 1, 1, 1, 1, 1, 1, 1, 1, 1, 1, 2, 2, 2, 2,\n",
       "       2, 2, 2, 2, 2, 2, 2, 2, 2, 2, 2, 2, 2, 2, 2, 2, 3, 3, 3, 3, 3, 3,\n",
       "       3, 3, 3, 3, 3, 3, 3, 3, 3, 3, 3, 3, 3, 3, 4, 4, 4, 4, 4, 4, 4, 4,\n",
       "       4, 4, 4, 4, 4, 4, 4, 4, 4, 4, 4, 4, 5, 5, 5, 5, 5, 5, 5, 5, 5, 5,\n",
       "       5, 5, 5, 5, 5, 5, 5, 5, 5, 5], dtype=int32)"
      ]
     },
     "execution_count": 87,
     "metadata": {},
     "output_type": "execute_result"
    }
   ],
   "source": [
    "generator_test.classes"
   ]
  },
  {
   "cell_type": "code",
   "execution_count": 88,
   "metadata": {},
   "outputs": [
    {
     "data": {
      "text/plain": [
       "array([0, 0, 0, 0, 0, 0, 0, 0, 0, 0, 0, 0, 0, 0, 0, 0, 0, 0, 0, 0, 1, 1,\n",
       "       1, 2, 1, 1, 1, 1, 1, 1, 1, 1, 1, 1, 1, 1, 1, 1, 1, 1, 2, 2, 2, 2,\n",
       "       2, 2, 2, 2, 2, 4, 2, 2, 1, 2, 2, 2, 2, 2, 2, 2, 3, 3, 3, 3, 3, 3,\n",
       "       3, 3, 3, 3, 3, 3, 3, 3, 3, 3, 3, 3, 3, 3, 4, 4, 4, 4, 4, 4, 3, 4,\n",
       "       4, 4, 4, 3, 4, 4, 4, 4, 4, 4, 4, 4, 5, 5, 5, 5, 5, 5, 5, 5, 5, 3,\n",
       "       5, 5, 5, 5, 5, 5, 5, 5, 5, 5])"
      ]
     },
     "execution_count": 88,
     "metadata": {},
     "output_type": "execute_result"
    }
   ],
   "source": [
    "pred.argmax(axis=-1)"
   ]
  },
  {
   "cell_type": "code",
   "execution_count": 89,
   "metadata": {},
   "outputs": [],
   "source": [
    "compare = generator_test.classes == pred.argmax(axis=-1)"
   ]
  },
  {
   "cell_type": "code",
   "execution_count": 90,
   "metadata": {},
   "outputs": [
    {
     "name": "stdout",
     "output_type": "stream",
     "text": [
      "[23, 49, 52, 86, 91, 109]\n"
     ]
    }
   ],
   "source": [
    "err_idd = []\n",
    "for i in range(len(compare)):\n",
    "    if not compare[i]:\n",
    "        err_idd.append(i)\n",
    "print(err_idd)"
   ]
  },
  {
   "cell_type": "code",
   "execution_count": 110,
   "metadata": {},
   "outputs": [
    {
     "data": {
      "image/png": "[encoded data removed]",
      "text/plain": [
       "<Figure size 432x288 with 1 Axes>"
      ]
     },
     "metadata": {
      "needs_background": "light"
     },
     "output_type": "display_data"
    },
    {
     "name": "stdout",
     "output_type": "stream",
     "text": [
      "Input shape: (1, 64, 64, 3)\n",
      "Label: [5]\n",
      "Prediction - list of [P(0) ... P(5)]: [[4.1416695e-04 4.0514940e-05 2.6813228e-04 1.1376618e-04 1.0699373e-02\n",
      "  9.8846406e-01]]\n"
     ]
    },
    {
     "data": {
      "text/plain": [
       "'5'"
      ]
     },
     "execution_count": 110,
     "metadata": {},
     "output_type": "execute_result"
    }
   ],
   "source": [
    "idd = 119\n",
    "img_path = test_dir + '/' + generator_test.filenames[idd]\n",
    "predict(\n",
    "    image_path=img_path,\n",
    "    model=model\n",
    ")"
   ]
  },
  {
   "cell_type": "code",
   "execution_count": 117,
   "metadata": {},
   "outputs": [
    {
     "data": {
      "image/png": "[encoded data removed]",
      "text/plain": [
       "<Figure size 720x720 with 16 Axes>"
      ]
     },
     "metadata": {
      "needs_background": "light"
     },
     "output_type": "display_data"
    }
   ],
   "source": [
    "# Visualize 8 filter of convolution 1 :\n",
    "img = load_img(img_path, target_size=input_shape)\n",
    "img_arr = img_to_array(img)/255.\n",
    "img_arr = np.expand_dims(img_arr, axis=0)\n",
    "intermediate_layer_model = Model(inputs=model.input,\n",
    "                                 outputs=model.get_layer(\"CONV_1\").output)\n",
    "intermediate_output = intermediate_layer_model.predict(img_arr)\n",
    "plt.figure(figsize=(10,10),)\n",
    "for i in range(16):\n",
    "    plt.subplot(2,8,i+1) \n",
    "    plt.subplots_adjust(left  = 0.125 ,right = 0.9 , bottom = 0.1,top = 0.9  ,wspace = 0.3 ,hspace = 0.1 )\n",
    "    plt.axis(\"off\")\n",
    "    plt.title(\"Feature: \" +str(i))\n",
    "    im = intermediate_output[:,:,:,i]\n",
    "    plt.imshow(np.squeeze(im))\n",
    "\n"
   ]
  },
  {
   "cell_type": "code",
   "execution_count": 118,
   "metadata": {},
   "outputs": [],
   "source": [
    "model.save(\"Gesture_model.h5\")"
   ]
  },
  {
   "cell_type": "code",
   "execution_count": null,
   "metadata": {},
   "outputs": [],
   "source": []
  }
 ],
 "metadata": {
  "celltoolbar": "Raw Cell Format",
  "colab": {
   "collapsed_sections": [],
   "name": "PoC_Practice.ipynb",
   "provenance": [],
   "version": "0.3.2"
  },
  "kernelspec": {
   "display_name": "Python 3",
   "language": "python",
   "name": "python3"
  },
  "language_info": {
   "codemirror_mode": {
    "name": "ipython",
    "version": 3
   },
   "file_extension": ".py",
   "mimetype": "text/x-python",
   "name": "python",
   "nbconvert_exporter": "python",
   "pygments_lexer": "ipython3",
   "version": "3.6.6"
  }
 },
 "nbformat": 4,
 "nbformat_minor": 1
}
