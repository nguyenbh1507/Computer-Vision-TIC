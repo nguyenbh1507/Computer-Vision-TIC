{
 "cells": [
  {
   "cell_type": "markdown",
   "metadata": {},
   "source": [
    "# Computer Vision Course #02\n",
    "## Image Processing\n",
    "by Can Nguyen, Tuong Pham - TIC Computer Vision Team"
   ]
  },
  {
   "cell_type": "markdown",
   "metadata": {},
   "source": [
    "## Imports"
   ]
  },
  {
   "cell_type": "code",
   "execution_count": null,
   "metadata": {},
   "outputs": [],
   "source": [
    "from PIL import Image\n",
    "import numpy as np\n",
    "import matplotlib.pyplot as plt"
   ]
  },
  {
   "cell_type": "markdown",
   "metadata": {},
   "source": [
    "## Load an Image with PIL\n",
    "PIL stands for Pillow library in Python. This library is similar with OpenCV. To load an image, you need to provide the image path into `Image.open` function."
   ]
  },
  {
   "cell_type": "code",
   "execution_count": null,
   "metadata": {},
   "outputs": [],
   "source": [
    "image = Image.open(\"Picture2.jpg\")\n",
    "\n",
    "display(image)\n",
    "\n",
    "image = np.asarray(image)"
   ]
  },
  {
   "cell_type": "markdown",
   "metadata": {},
   "source": [
    "# Geometry Transformation\n",
    "## Point transformation\n",
    "\n",
    "Apply transformation on a single point"
   ]
  },
  {
   "cell_type": "code",
   "execution_count": null,
   "metadata": {},
   "outputs": [],
   "source": [
    "# Perform transformation\n",
    "def point_transform(x, y, matrix):\n",
    "    coord = np.asarray([x, y, 1])\n",
    "    \n",
    "    des_coord = matrix.dot(coord)\n",
    "    \n",
    "    return np.asarray(des_coord, dtype=int)"
   ]
  },
  {
   "cell_type": "markdown",
   "metadata": {},
   "source": [
    "## Translation"
   ]
  },
  {
   "cell_type": "code",
   "execution_count": null,
   "metadata": {},
   "outputs": [],
   "source": [
    "def translate(image, tx, ty):\n",
    "    \n",
    "    # Define transform matrix\n",
    "    transform_matrix = np.asarray(\n",
    "        [[1, 0, tx],\n",
    "         [0, 1, ty]\n",
    "        ]\n",
    "    )\n",
    "    \n",
    "    # Intialize image as black\n",
    "    output = np.zeros(image.shape, dtype=int)\n",
    "    \n",
    "    # For each pixel in image\n",
    "    for w in range(image.shape[0]):\n",
    "        for h in range(image.shape[1]):\n",
    "            \n",
    "            # Calculate destinate coordination\n",
    "            des_x, des_y = point_transform(w, h, transform_matrix)\n",
    "            \n",
    "            # Out-of-bound condition\n",
    "            valid = (des_x >= 0) & (des_x < image.shape[0]) & (des_y >= 0) & (des_y < image.shape[1])\n",
    "            \n",
    "            # Assigning values\n",
    "            if valid:\n",
    "                output[des_x, des_y, :] = image[w,h,:]\n",
    "    \n",
    "    return output\n",
    "\n",
    "# Original image\n",
    "plt.figure()\n",
    "plt.imshow(image)\n",
    "\n",
    "# Process image\n",
    "processed = translate(image, 50, 50)\n",
    "\n",
    "# Processed image\n",
    "plt.figure()\n",
    "plt.imshow(processed)"
   ]
  },
  {
   "cell_type": "markdown",
   "metadata": {},
   "source": [
    "## Rotation"
   ]
  },
  {
   "cell_type": "code",
   "execution_count": null,
   "metadata": {},
   "outputs": [],
   "source": [
    "def rotate(image, theta):\n",
    "    \n",
    "    # Define transform matrix\n",
    "    sin, cos = np.sin(theta), np.cos(theta)\n",
    "    \n",
    "    transform_matrix = np.asarray(\n",
    "        [[cos, -sin, 0],\n",
    "         [sin, cos, 0]\n",
    "        ]\n",
    "    )\n",
    "    \n",
    "    # Intialize image as black\n",
    "    output = np.zeros(image.shape, dtype=int)\n",
    "    \n",
    "    # For each pixel in image\n",
    "    for w in range(image.shape[0]):\n",
    "        for h in range(image.shape[1]):\n",
    "            \n",
    "            # Calculate destinate coordination\n",
    "            des_x, des_y = point_transform(w, h, transform_matrix)\n",
    "            \n",
    "            # Out-of-bound condition\n",
    "            valid = (des_x >= 0) & (des_x < image.shape[0]) & (des_y >= 0) & (des_y < image.shape[1])\n",
    "            \n",
    "            # Assigning values\n",
    "            if valid:\n",
    "                output[des_x, des_y, :] = image[w,h,:]\n",
    "    \n",
    "    return output\n",
    "\n",
    "# Original image\n",
    "plt.figure()\n",
    "plt.imshow(image)\n",
    "\n",
    "# Process image\n",
    "processed = rotate(image, -45)\n",
    "\n",
    "# Processed image\n",
    "plt.figure()\n",
    "plt.imshow(processed)"
   ]
  },
  {
   "cell_type": "markdown",
   "metadata": {},
   "source": [
    "## Rotation around abitrary point"
   ]
  },
  {
   "cell_type": "code",
   "execution_count": null,
   "metadata": {},
   "outputs": [],
   "source": [
    "def rotate_center(image, theta):\n",
    "    \n",
    "    # Define rotation matrix\n",
    "    sin, cos = np.sin(theta), np.cos(theta)\n",
    "    \n",
    "    rot_matrix = np.asarray(\n",
    "        [[cos, -sin, 0],\n",
    "         [sin, cos, 0]\n",
    "        ]\n",
    "    )\n",
    "    \n",
    "    # Define translation matrix\n",
    "    \n",
    "    # Locate center point\n",
    "    w_c = int(image.shape[0] / 2)\n",
    "    w_h = int(image.shape[1] / 2)\n",
    "    \n",
    "    # Translation to origin\n",
    "    mov_matrix = np.asarray(\n",
    "        [[1, 0, -w_c],\n",
    "         [0, 1, -w_h]\n",
    "        ]\n",
    "    )\n",
    "    \n",
    "    # Translation back\n",
    "    mov_back_matrix = np.asarray(\n",
    "        [[1, 0, w_c],\n",
    "         [0, 1, w_h]\n",
    "        ]\n",
    "    )\n",
    "    \n",
    "    # Intialize image as black\n",
    "    output = np.zeros(image.shape, dtype=int)\n",
    "    \n",
    "    # For each pixel in image\n",
    "    for w in range(image.shape[0]):\n",
    "        for h in range(image.shape[1]):\n",
    "            \n",
    "            # Calculate destinate coordination\n",
    "            # Move to origin\n",
    "            des_x, des_y = point_transform(w, h, mov_matrix)\n",
    "            \n",
    "            # Rotate\n",
    "            des_x, des_y = point_transform(des_x, des_y, rot_matrix)\n",
    "            \n",
    "            # Move back\n",
    "            des_x, des_y = point_transform(des_x, des_y, mov_back_matrix)\n",
    "            \n",
    "            # Out-of-bound condition\n",
    "            valid = (des_x >= 0) & (des_x < image.shape[0]) & (des_y >= 0) & (des_y < image.shape[1])\n",
    "            \n",
    "            # Assigning values\n",
    "            if valid:\n",
    "                output[des_x, des_y, :] = image[w,h,:]\n",
    "    \n",
    "    return output\n",
    "\n",
    "# Original image\n",
    "plt.figure()\n",
    "plt.imshow(image)\n",
    "\n",
    "# Process image\n",
    "processed = rotate_center(image, 45)\n",
    "\n",
    "# Processed image\n",
    "plt.figure()\n",
    "plt.imshow(processed)"
   ]
  },
  {
   "cell_type": "markdown",
   "metadata": {},
   "source": [
    "# Intensity Transformation\n",
    "## Histogram\n",
    "\n",
    "In this session, we would demonstrate about how to create and display histogram of each color channel\n"
   ]
  },
  {
   "cell_type": "code",
   "execution_count": null,
   "metadata": {},
   "outputs": [],
   "source": [
    "def create_histogram(image, channel_index):\n",
    "    # Get channel\n",
    "    channel = image[:,:,channel_index]\n",
    "    \n",
    "    # Initialize histogram matrix\n",
    "    histogram = np.zeros((256,1))\n",
    "    \n",
    "    # Use intensity as index\n",
    "    for i in channel.ravel():\n",
    "        histogram[i] += 1\n",
    "        \n",
    "    return histogram\n",
    "\n",
    "red = create_histogram(image, 0)\n",
    "green = create_histogram(image, 1)\n",
    "blue = create_histogram(image, 2)\n",
    "\n",
    "# Double check\n",
    "plt.figure()\n",
    "plt.plot(red, color='red')\n",
    "plt.plot(green, color='green')\n",
    "plt.plot(blue, color='blue')\n"
   ]
  },
  {
   "cell_type": "markdown",
   "metadata": {},
   "source": [
    "## Brighten/Darken an image\n",
    "Describes the process of manipulating an image's brightness"
   ]
  },
  {
   "cell_type": "code",
   "execution_count": null,
   "metadata": {},
   "outputs": [],
   "source": [
    "def enhance_brightness(image, alpha):\n",
    "    # Create brighter image\n",
    "    output = image.copy()\n",
    "\n",
    "    # Intensity transform matrix\n",
    "    mat = np.zeros(output.shape, dtype=int) + alpha\n",
    "\n",
    "    # Increase brightness\n",
    "    output = output + mat\n",
    "\n",
    "    # Apply thresholding\n",
    "    output[output > 255] = 255\n",
    "    output[output < 0] = 0\n",
    "    \n",
    "    return output\n",
    "\n",
    "# Original image\n",
    "plt.figure()\n",
    "plt.imshow(image)\n",
    "\n",
    "# Process image\n",
    "processed = enhance_brightness(image, -50)\n",
    "\n",
    "# Processed image\n",
    "plt.figure()\n",
    "plt.imshow(processed)\n",
    "\n",
    "# Display histogram\n",
    "red = create_histogram(processed, 0)\n",
    "green = create_histogram(processed, 1)\n",
    "blue = create_histogram(processed, 2)\n",
    "\n",
    "# Double check\n",
    "plt.figure()\n",
    "plt.plot(red, color='red')\n",
    "plt.plot(green, color='green')\n",
    "plt.plot(blue, color='blue')\n",
    "\n",
    "darker = processed.copy()"
   ]
  },
  {
   "cell_type": "markdown",
   "metadata": {},
   "source": [
    "## Improve image's contrast\n",
    "The session illustrates the process of enhancing image's contrast, typically by stretching the histogram"
   ]
  },
  {
   "cell_type": "code",
   "execution_count": null,
   "metadata": {},
   "outputs": [],
   "source": [
    "def enhance_contrast(image):\n",
    "    # Create brighter image\n",
    "    output = image.copy()\n",
    "    \n",
    "    # For each color channel\n",
    "    for i in range(image.shape[2]):\n",
    "        channel = image[:,:,i]\n",
    "        \n",
    "        # Get minimum and maximum values\n",
    "        i_min = np.min(channel.ravel())\n",
    "        i_max = np.max(channel.ravel())\n",
    "        \n",
    "        # Stretch histogram        \n",
    "        output[:,:,i] = (output[:,:,i] - i_min) / (i_max - i_min) * 255\n",
    "        \n",
    "    return output\n",
    "\n",
    "# Original image\n",
    "plt.figure()\n",
    "plt.imshow(image)\n",
    "\n",
    "# Darker\n",
    "plt.figure()\n",
    "plt.imshow(darker)\n",
    "\n",
    "# Process image\n",
    "processed = enhance_contrast(darker)\n",
    "\n",
    "# Processed image\n",
    "plt.figure()\n",
    "plt.imshow(processed)\n",
    "\n",
    "# Display histogram\n",
    "red = create_histogram(processed, 0)\n",
    "green = create_histogram(processed, 1)\n",
    "blue = create_histogram(processed, 2)\n",
    "\n",
    "# Double check\n",
    "plt.figure()\n",
    "plt.plot(red, color='red')\n",
    "plt.plot(green, color='green')\n",
    "plt.plot(blue, color='blue')\n"
   ]
  },
  {
   "cell_type": "markdown",
   "metadata": {},
   "source": [
    "# Filter\n",
    "\n",
    "## Salt and pepper"
   ]
  },
  {
   "cell_type": "code",
   "execution_count": null,
   "metadata": {},
   "outputs": [],
   "source": [
    "image = Image.open(\"lena_sp_noise.png\")\n",
    "display(image)\n",
    "\n",
    "image = np.asarray(image)"
   ]
  },
  {
   "cell_type": "markdown",
   "metadata": {},
   "source": [
    "## Denoising with Mean filter"
   ]
  },
  {
   "cell_type": "code",
   "execution_count": null,
   "metadata": {},
   "outputs": [],
   "source": [
    "def denoise(image, size):\n",
    "    output = image.copy()\n",
    "    \n",
    "    # For each VALID pixel in image\n",
    "    for r in range(size, image.shape[0] - size):\n",
    "        for c in range(size, image.shape[1] - size):\n",
    "            \n",
    "            # Extract the convolution block\n",
    "            convo = image[r - size : r + size + 1, c - size : c + size + 1]\n",
    "            \n",
    "            # Get the mean\n",
    "            mean = np.mean(convo)\n",
    "            \n",
    "            # Assign new value\n",
    "            output[r, c] = np.round(mean)\n",
    "            \n",
    "    return output\n",
    "\n",
    "# Original image\n",
    "display(Image.fromarray(image))\n",
    "\n",
    "# Process image\n",
    "processed = denoise(image, 3)\n",
    "\n",
    "# Processed image\n",
    "display(Image.fromarray(processed))"
   ]
  },
  {
   "cell_type": "code",
   "execution_count": null,
   "metadata": {},
   "outputs": [],
   "source": []
  }
 ],
 "metadata": {
  "kernelspec": {
   "display_name": "Python 3",
   "language": "python",
   "name": "python3"
  },
  "language_info": {
   "codemirror_mode": {
    "name": "ipython",
    "version": 3
   },
   "file_extension": ".py",
   "mimetype": "text/x-python",
   "name": "python",
   "nbconvert_exporter": "python",
   "pygments_lexer": "ipython3",
   "version": "3.6.4"
  }
 },
 "nbformat": 4,
 "nbformat_minor": 2
}
