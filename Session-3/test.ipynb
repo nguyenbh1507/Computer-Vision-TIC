{
 "cells": [
  {
   "cell_type": "code",
   "execution_count": 1,
   "metadata": {},
   "outputs": [
    {
     "name": "stderr",
     "output_type": "stream",
     "text": [
      "Using TensorFlow backend.\n"
     ]
    }
   ],
   "source": [
    "# Plot ad hoc mnist instances\n",
    "from keras.datasets import mnist\n",
    "import matplotlib.pyplot as plt\n",
    "# load (downloaded if needed) the MNIST dataset\n",
    "(X_train, y_train), (X_test, y_test) = mnist.load_data(path=\"mnist.npz\")"
   ]
  },
  {
   "cell_type": "code",
   "execution_count": 2,
   "metadata": {},
   "outputs": [],
   "source": [
    "import numpy\n",
    "from keras.models import Sequential\n",
    "from keras.layers import Dense\n",
    "from keras.layers import Dropout\n",
    "from keras.utils import np_utils"
   ]
  },
  {
   "cell_type": "code",
   "execution_count": 3,
   "metadata": {},
   "outputs": [],
   "source": [
    "# fix random seed for reproducibility\n",
    "seed = 7\n",
    "numpy.random.seed(seed)"
   ]
  },
  {
   "cell_type": "code",
   "execution_count": 4,
   "metadata": {},
   "outputs": [],
   "source": [
    "# load data\n",
    "(X_train, y_train), (X_test, y_test) = mnist.load_data()"
   ]
  },
  {
   "cell_type": "code",
   "execution_count": 5,
   "metadata": {},
   "outputs": [],
   "source": [
    "# flatten 28*28 images to a 784 vector for each image\n",
    "num_pixels = X_train.shape[1] * X_train.shape[2]\n",
    "X_train = X_train.reshape(X_train.shape[0], num_pixels).astype('float32')\n",
    "X_test = X_test.reshape(X_test.shape[0], num_pixels).astype('float32')"
   ]
  },
  {
   "cell_type": "code",
   "execution_count": 6,
   "metadata": {},
   "outputs": [],
   "source": [
    "# normalize inputs from 0-255 to 0-1\n",
    "X_train = X_train / 255\n",
    "X_test = X_test / 255"
   ]
  },
  {
   "cell_type": "code",
   "execution_count": 7,
   "metadata": {},
   "outputs": [],
   "source": [
    "# one hot encode outputs\n",
    "y_train = np_utils.to_categorical(y_train)\n",
    "y_test = np_utils.to_categorical(y_test)\n",
    "num_classes = y_test.shape[1]"
   ]
  },
  {
   "cell_type": "code",
   "execution_count": 8,
   "metadata": {},
   "outputs": [],
   "source": [
    "# define baseline model\n",
    "def baseline_model():\n",
    "    # create model\n",
    "    model = Sequential()\n",
    "    model.add(\n",
    "        Dense(\n",
    "            num_pixels, \n",
    "            input_dim=num_pixels, \n",
    "            kernel_initializer='normal', \n",
    "            activation='relu'\n",
    "        )\n",
    "    )\n",
    "    \n",
    "    model.add(\n",
    "        Dense(\n",
    "            num_classes, \n",
    "            kernel_initializer='normal', \n",
    "            activation='softmax'\n",
    "        )\n",
    "    )\n",
    "    \n",
    "    # Compile model\n",
    "    model.compile(loss='categorical_crossentropy', optimizer='adam', metrics=['accuracy'])\n",
    "\n",
    "    return model"
   ]
  },
  {
   "cell_type": "code",
   "execution_count": 9,
   "metadata": {},
   "outputs": [
    {
     "name": "stdout",
     "output_type": "stream",
     "text": [
      "Train on 60000 samples, validate on 10000 samples\n",
      "Epoch 1/10\n",
      " - 6s - loss: 0.2783 - acc: 0.9211 - val_loss: 0.1414 - val_acc: 0.9571\n",
      "Epoch 2/10\n",
      " - 6s - loss: 0.1118 - acc: 0.9675 - val_loss: 0.0922 - val_acc: 0.9711\n",
      "Epoch 3/10\n",
      " - 6s - loss: 0.0719 - acc: 0.9798 - val_loss: 0.0786 - val_acc: 0.9771\n",
      "Epoch 4/10\n",
      " - 6s - loss: 0.0505 - acc: 0.9857 - val_loss: 0.0743 - val_acc: 0.9766\n",
      "Epoch 5/10\n",
      " - 6s - loss: 0.0375 - acc: 0.9891 - val_loss: 0.0663 - val_acc: 0.9792\n",
      "Epoch 6/10\n",
      " - 6s - loss: 0.0270 - acc: 0.9928 - val_loss: 0.0633 - val_acc: 0.9805\n",
      "Epoch 7/10\n",
      " - 6s - loss: 0.0209 - acc: 0.9947 - val_loss: 0.0620 - val_acc: 0.9811\n",
      "Epoch 8/10\n",
      " - 6s - loss: 0.0140 - acc: 0.9969 - val_loss: 0.0619 - val_acc: 0.9805\n",
      "Epoch 9/10\n",
      " - 6s - loss: 0.0110 - acc: 0.9976 - val_loss: 0.0602 - val_acc: 0.9801\n",
      "Epoch 10/10\n",
      " - 6s - loss: 0.0080 - acc: 0.9985 - val_loss: 0.0594 - val_acc: 0.9811\n",
      "Baseline Error: 1.89%\n"
     ]
    }
   ],
   "source": [
    "# build the model\n",
    "model = baseline_model()\n",
    "# Fit the model\n",
    "model.fit(X_train, y_train, validation_data=(X_test, y_test), epochs=10, batch_size=200, verbose=2)\n",
    "# Final evaluation of the model\n",
    "scores = model.evaluate(X_test, y_test, verbose=0)\n",
    "print(\"Baseline Error: %.2f%%\" % (100-scores[1]*100))"
   ]
  },
  {
   "cell_type": "code",
   "execution_count": 11,
   "metadata": {},
   "outputs": [
    {
     "name": "stdout",
     "output_type": "stream",
     "text": [
      "_________________________________________________________________\n",
      "Layer (type)                 Output Shape              Param #   \n",
      "=================================================================\n",
      "dense_1 (Dense)              (None, 784)               615440    \n",
      "_________________________________________________________________\n",
      "dense_2 (Dense)              (None, 10)                7850      \n",
      "=================================================================\n",
      "Total params: 623,290\n",
      "Trainable params: 623,290\n",
      "Non-trainable params: 0\n",
      "_________________________________________________________________\n"
     ]
    }
   ],
   "source": [
    "model.summary()"
   ]
  },
  {
   "cell_type": "code",
   "execution_count": 12,
   "metadata": {},
   "outputs": [],
   "source": [
    "# import library\n",
    "from keras.datasets import mnist\n",
    "import matplotlib.pyplot as plt\n",
    "import numpy as np\n",
    "from keras.datasets import mnist\n",
    "from keras.models import Sequential,Model\n",
    "from keras.layers import Dense\n",
    "from keras.layers import Dropout\n",
    "from keras.layers import Flatten\n",
    "from keras.layers.convolutional import Conv2D\n",
    "from keras.layers.convolutional import MaxPooling2D\n",
    "from keras.utils import np_utils\n",
    "from keras import backend as K\n",
    "from IPython.display import Image\n",
    "%matplotlib inline"
   ]
  },
  {
   "cell_type": "code",
   "execution_count": 13,
   "metadata": {},
   "outputs": [],
   "source": [
    "# load (downloaded if needed) the MNIST dataset\n",
    "(x_train, y_train), (x_test, y_test) = mnist.load_data(path=\"mnist.npz\")"
   ]
  },
  {
   "cell_type": "code",
   "execution_count": 14,
   "metadata": {},
   "outputs": [
    {
     "name": "stdout",
     "output_type": "stream",
     "text": [
      "Shape of X : (60000, 28, 28, 1)\n",
      "Shape of y : (60000, 10)\n"
     ]
    }
   ],
   "source": [
    "# reshape to be [samples][width][height][chanel]\n",
    "X_train = x_train.reshape(x_train.shape[0], 28, 28,1).astype('float32')\n",
    "X_test = x_test.reshape(x_test.shape[0],  28, 28,1).astype('float32')\n",
    "# normalize inputs from 0-255 to 0-1\n",
    "X_train = X_train / 255\n",
    "X_test = X_test / 255\n",
    "# one hot encode outputs number class 10\n",
    "y_train = np_utils.to_categorical(y_train)\n",
    "y_test = np_utils.to_categorical(y_test)\n",
    "num_classes = y_test.shape[1]\n",
    "# shape of X,y after procesising\n",
    "print(\"Shape of X :\",X_train.shape)\n",
    "print(\"Shape of y :\",y_train.shape)"
   ]
  },
  {
   "cell_type": "code",
   "execution_count": 47,
   "metadata": {},
   "outputs": [],
   "source": [
    "model = Sequential()\n",
    "\n",
    "model.add(\n",
    "    Conv2D(\n",
    "        filters=8,\n",
    "        kernel_size=(5,5),\n",
    "        padding='same',\n",
    "        strides=(1, 1),\n",
    "        activation='relu',\n",
    "        input_shape=(28, 28,1),\n",
    "        name='CONV_1'    \n",
    "    )\n",
    ")\n",
    "\n",
    "model.add(\n",
    "    MaxPooling2D(\n",
    "        pool_size=(2, 2), \n",
    "        strides=(2,2), \n",
    "        padding='valid', \n",
    "        name=\"MAX_POOL_1\"\n",
    "    )\n",
    ")\n",
    "\n",
    "model.add(Dropout(rate=0.2))\n",
    "\n",
    "model.add(\n",
    "    Conv2D(\n",
    "        filters=16,\n",
    "        kernel_size=(3,3),\n",
    "        padding='same',\n",
    "        strides=(1, 1),\n",
    "        activation='relu',\n",
    "        input_shape=(28, 28,1),\n",
    "        name='CONV_2' \n",
    "    )\n",
    ")\n",
    "\n",
    "model.add(\n",
    "    MaxPooling2D(\n",
    "        pool_size=(5, 5), \n",
    "        strides=(3,3), \n",
    "        padding='valid', \n",
    "        name=\"MAX_POOL_2\"\n",
    "    )\n",
    ")\n",
    "\n",
    "model.add(\n",
    "    Flatten(name=\"FLATTEN\")\n",
    ")\n",
    "\n",
    "model.add(Dropout(rate=0.2))\n",
    "\n",
    "model.add(\n",
    "    Dense(\n",
    "        units=512,\n",
    "        activation='relu',\n",
    "        name=\"DENSE_1\"\n",
    "    )\n",
    ")\n",
    "\n",
    "model.add(\n",
    "    Dense(\n",
    "        units=10,\n",
    "        activation='softmax',\n",
    "        name=\"DENSE_2\"\n",
    "    )\n",
    ")\n",
    "\n",
    "model.compile(\n",
    "    optimizer='adam',\n",
    "    loss='categorical_crossentropy', \n",
    "    metrics=['accuracy']\n",
    ")"
   ]
  },
  {
   "cell_type": "code",
   "execution_count": 48,
   "metadata": {},
   "outputs": [
    {
     "name": "stdout",
     "output_type": "stream",
     "text": [
      "_________________________________________________________________\n",
      "Layer (type)                 Output Shape              Param #   \n",
      "=================================================================\n",
      "CONV_1 (Conv2D)              (None, 28, 28, 8)         208       \n",
      "_________________________________________________________________\n",
      "MAX_POOL_1 (MaxPooling2D)    (None, 14, 14, 8)         0         \n",
      "_________________________________________________________________\n",
      "dropout_7 (Dropout)          (None, 14, 14, 8)         0         \n",
      "_________________________________________________________________\n",
      "CONV_2 (Conv2D)              (None, 14, 14, 16)        1168      \n",
      "_________________________________________________________________\n",
      "MAX_POOL_2 (MaxPooling2D)    (None, 4, 4, 16)          0         \n",
      "_________________________________________________________________\n",
      "FLATTEN (Flatten)            (None, 256)               0         \n",
      "_________________________________________________________________\n",
      "dropout_8 (Dropout)          (None, 256)               0         \n",
      "_________________________________________________________________\n",
      "DENSE_1 (Dense)              (None, 512)               131584    \n",
      "_________________________________________________________________\n",
      "DENSE_2 (Dense)              (None, 10)                5130      \n",
      "=================================================================\n",
      "Total params: 138,090\n",
      "Trainable params: 138,090\n",
      "Non-trainable params: 0\n",
      "_________________________________________________________________\n"
     ]
    }
   ],
   "source": [
    "model.summary()"
   ]
  },
  {
   "cell_type": "code",
   "execution_count": 49,
   "metadata": {},
   "outputs": [
    {
     "name": "stdout",
     "output_type": "stream",
     "text": [
      "Train on 60000 samples, validate on 10000 samples\n",
      "Epoch 1/5\n",
      "60000/60000 [==============================] - 31s 512us/step - loss: 0.8524 - acc: 0.7417 - val_loss: 0.1950 - val_acc: 0.9456\n",
      "Epoch 2/5\n",
      "60000/60000 [==============================] - 30s 501us/step - loss: 0.2351 - acc: 0.9285 - val_loss: 0.1024 - val_acc: 0.9681\n",
      "Epoch 3/5\n",
      "60000/60000 [==============================] - 30s 500us/step - loss: 0.1704 - acc: 0.9469 - val_loss: 0.0716 - val_acc: 0.9786\n",
      "Epoch 4/5\n",
      "60000/60000 [==============================] - 30s 500us/step - loss: 0.1319 - acc: 0.9592 - val_loss: 0.0614 - val_acc: 0.9821\n",
      "Epoch 5/5\n",
      "60000/60000 [==============================] - 30s 507us/step - loss: 0.1171 - acc: 0.9638 - val_loss: 0.0502 - val_acc: 0.9834\n",
      "Accuary score : 0.9834\n"
     ]
    }
   ],
   "source": [
    "# Fit the model\n",
    "hist = model.fit(\n",
    "    X_train, \n",
    "    y_train, \n",
    "    validation_data=(X_test, y_test), \n",
    "    epochs=5, \n",
    "    batch_size=512\n",
    ")\n",
    "\n",
    "# Final evaluation of the model\n",
    "scores = model.evaluate(X_test, y_test, verbose=0)\n",
    "\n",
    "print(\"Accuary score :\", scores[1])"
   ]
  },
  {
   "cell_type": "code",
   "execution_count": 52,
   "metadata": {},
   "outputs": [
    {
     "data": {
      "image/png": "[encoded data removed]",
      "text/plain": [
       "<Figure size 720x720 with 8 Axes>"
      ]
     },
     "metadata": {},
     "output_type": "display_data"
    }
   ],
   "source": [
    "# Visualize 8 filter of convolution 1 :\n",
    "intermediate_layer_model = Model(inputs=model.input,\n",
    "                                 outputs=model.get_layer(\"CONV_1\").output)\n",
    "intermediate_output = intermediate_layer_model.predict(np.expand_dims(X_test[10],axis=0))\n",
    "plt.figure(figsize=(10,10),)\n",
    "for i in range(intermediate_output.shape[-1]):\n",
    "    plt.subplot(4,8,i+1) \n",
    "    plt.subplots_adjust(left  = 0.125 ,right = 0.9 , bottom = 0.1,top = 0.9  ,wspace = 0.3 ,hspace = 0.1 )\n",
    "    plt.axis(\"off\")\n",
    "    plt.title(\"Feature: \" +str(i))\n",
    "    im = intermediate_output[:,:,:,i]\n",
    "    plt.imshow(np.squeeze(im), cmap=plt.get_cmap('gray'))"
   ]
  },
  {
   "cell_type": "code",
   "execution_count": 55,
   "metadata": {},
   "outputs": [
    {
     "data": {
      "image/png": "[encoded data removed]",
      "text/plain": [
       "<Figure size 720x720 with 8 Axes>"
      ]
     },
     "metadata": {},
     "output_type": "display_data"
    }
   ],
   "source": [
    "# Visualize 8 filter of convolution 1 :\n",
    "intermediate_layer_model = Model(inputs=model.input,\n",
    "                                 outputs=model.get_layer(\"MAX_POOL_1\").output)\n",
    "intermediate_output = intermediate_layer_model.predict(np.expand_dims(X_test[10],axis=0))\n",
    "plt.figure(figsize=(10,10),)\n",
    "for i in range(intermediate_output.shape[-1]):\n",
    "    plt.subplot(4,8,i+1) \n",
    "    plt.subplots_adjust(left  = 0.125 ,right = 0.9 , bottom = 0.1,top = 0.9  ,wspace = 0.3 ,hspace = 0.1 )\n",
    "    plt.axis(\"off\")\n",
    "    plt.title(\"Feature: \" +str(i))\n",
    "    im = intermediate_output[:,:,:,i]\n",
    "    plt.imshow(np.squeeze(im), cmap=plt.get_cmap('gray'))"
   ]
  },
  {
   "cell_type": "code",
   "execution_count": null,
   "metadata": {},
   "outputs": [],
   "source": []
  }
 ],
 "metadata": {
  "kernelspec": {
   "display_name": "Python 3",
   "language": "python",
   "name": "python3"
  },
  "language_info": {
   "codemirror_mode": {
    "name": "ipython",
    "version": 3
   },
   "file_extension": ".py",
   "mimetype": "text/x-python",
   "name": "python",
   "nbconvert_exporter": "python",
   "pygments_lexer": "ipython3",
   "version": "3.5.2"
  }
 },
 "nbformat": 4,
 "nbformat_minor": 2
}
